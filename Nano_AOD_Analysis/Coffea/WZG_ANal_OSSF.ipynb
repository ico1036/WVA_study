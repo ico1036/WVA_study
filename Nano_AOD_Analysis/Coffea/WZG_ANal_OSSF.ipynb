{
 "cells": [
  {
   "cell_type": "code",
<<<<<<< HEAD
   "execution_count": 1,
=======
   "execution_count": 2,
>>>>>>> 669bc3b5efa53cf4c8fa10274d1ccbac7d8437a3
   "metadata": {},
   "outputs": [],
   "source": [
    "import numpy as np\n",
    "import awkward as ak\n",
    "from coffea.nanoaod import NanoEvents\n",
    "from uproot_methods import TLorentzVectorArray\n",
    "import time\n",
    "from uproot_methods import TVector2Array"
   ]
  },
  {
   "cell_type": "code",
<<<<<<< HEAD
   "execution_count": 2,
=======
   "execution_count": 6,
>>>>>>> 669bc3b5efa53cf4c8fa10274d1ccbac7d8437a3
   "metadata": {},
   "outputs": [
    {
     "name": "stdout",
     "output_type": "stream",
     "text": [
      "data/NanoAOD_files/scheme4_nano.root\n"
     ]
    }
   ],
   "source": [
    "!ls data/NanoAOD_files/scheme4_nano.root\n",
    "fname = \"data/NanoAOD_files/scheme4_nano.root\""
   ]
  },
  {
   "cell_type": "markdown",
   "metadata": {},
   "source": [
    "- Read event tree"
   ]
  },
  {
   "cell_type": "code",
<<<<<<< HEAD
   "execution_count": 3,
=======
   "execution_count": 7,
>>>>>>> 669bc3b5efa53cf4c8fa10274d1ccbac7d8437a3
   "metadata": {},
   "outputs": [],
   "source": [
    "events = NanoEvents.from_file(fname)"
   ]
  },
  {
   "cell_type": "code",
<<<<<<< HEAD
   "execution_count": 4,
   "metadata": {},
   "outputs": [],
   "source": [
    "## Met Filter\n",
    "met_filter_flags = {\n",
    "     \n",
    "        '2016': ['goodVertices',\n",
    "                 'globalSuperTightHalo2016Filter',\n",
    "                 'HBHENoiseFilter',\n",
    "                 'HBHENoiseIsoFilter',\n",
    "                 'EcalDeadCellTriggerPrimitiveFilter',\n",
    "                 'BadPFMuonFilter'\n",
    "             ],\n",
    "\n",
    "        '2017': ['goodVertices',\n",
    "                 'globalSuperTightHalo2016Filter',\n",
    "                 'HBHENoiseFilter',\n",
    "                 'HBHENoiseIsoFilter',\n",
    "                 'EcalDeadCellTriggerPrimitiveFilter',\n",
    "                 'BadPFMuonFilter',\n",
    "                 'ecalBadCalibFilterV2'\n",
    "             ],\n",
    "\n",
    "        '2018': ['goodVertices',\n",
    "                 'globalSuperTightHalo2016Filter',\n",
    "                 'HBHENoiseFilter',\n",
    "                 'HBHENoiseIsoFilter',\n",
    "                 'EcalDeadCellTriggerPrimitiveFilter',\n",
    "                 'BadPFMuonFilter',\n",
    "                 'ecalBadCalibFilterV2'\n",
    "             ]\n",
    "    }\n"
   ]
  },
  {
   "cell_type": "code",
   "execution_count": 5,
   "metadata": {},
   "outputs": [],
   "source": [
    "## Triggers\n",
    "\n",
    "met_triggers = {\n",
    "            '2016': [\n",
    "                'PFMETNoMu90_PFMHTNoMu90_IDTight',\n",
    "                'PFMETNoMu100_PFMHTNoMu100_IDTight',\n",
    "                'PFMETNoMu110_PFMHTNoMu110_IDTight',\n",
    "                'PFMETNoMu120_PFMHTNoMu120_IDTight'\n",
    "            ],\n",
    "            '2017': [\n",
    "                'PFMETNoMu120_PFMHTNoMu120_IDTight_PFHT60',\n",
    "                'PFMETNoMu120_PFMHTNoMu120_IDTight'\n",
    "            ],\n",
    "            '2018': [\n",
    "                'PFMETNoMu120_PFMHTNoMu120_IDTight_PFHT60',\n",
    "                'PFMETNoMu120_PFMHTNoMu120_IDTight'\n",
    "            ]\n",
    "        }\n",
    "\n",
    "singlephoton_triggers = {\n",
    "            '2016': [\n",
    "                'Photon175',\n",
    "                'Photon165_HE10'\n",
    "            ],\n",
    "            '2017': [\n",
    "                'Photon200'\n",
    "            ],\n",
    "            '2018': [\n",
    "                'Photon200'\n",
    "            ]\n",
    "        }\n",
    "\n",
    "singleelectron_triggers = { #2017 and 2018 from monojet, applying dedicated trigger weights\n",
    "            '2016': [\n",
    "                'Ele27_WPTight_Gsf',\n",
    "                'Ele105_CaloIdVT_GsfTrkIdT'\n",
    "            ],\n",
    "            '2017': [\n",
    "                'Ele35_WPTight_Gsf',\n",
    "                'Ele115_CaloIdVT_GsfTrkIdT',\n",
    "                'Photon200'\n",
    "            ],\n",
    "            '2018': [\n",
    "                'Ele32_WPTight_Gsf',\n",
    "                'Ele115_CaloIdVT_GsfTrkIdT',\n",
    "                'Photon200'\n",
    "            ]\n",
    "        }"
   ]
  },
  {
   "cell_type": "code",
   "execution_count": 6,
   "metadata": {},
   "outputs": [
    {
     "name": "stdout",
     "output_type": "stream",
     "text": [
      "Total 17150 number of events\n"
     ]
    }
   ],
   "source": [
    "print(\"Total {0} number of events\".format(events.shape[0]))"
   ]
  },
  {
   "cell_type": "code",
   "execution_count": 7,
   "metadata": {},
   "outputs": [
    {
     "name": "stdout",
     "output_type": "stream",
     "text": [
      "[ True  True  True ...  True  True  True] (17150,)\n"
     ]
    }
   ],
   "source": [
    "## met filter\n",
    "year='2018'\n",
    "is_met_filter=True\n",
    "if not is_met_filter:\n",
    "    met_filters =  np.ones(events.size, dtype=np.bool)\n",
    "else:\n",
    "    met_filters =  np.ones(events.size, dtype=np.bool)\n",
    "    for flag in met_filter_flags[year]:\n",
    "        if flag not in events.Flag.columns: continue\n",
    "        met_filters = met_filters & events.Flag[flag]\n",
    "print(met_filters,met_filters.shape)"
   ]
  },
  {
   "cell_type": "code",
=======
>>>>>>> 669bc3b5efa53cf4c8fa10274d1ccbac7d8437a3
   "execution_count": 8,
   "metadata": {},
   "outputs": [
    {
     "name": "stdout",
     "output_type": "stream",
     "text": [
<<<<<<< HEAD
      "[ True  True  True ...  True  True  True] (17150,)\n"
     ]
    }
   ],
   "source": [
    "## met trigger\n",
    "\n",
    "is_met_trigger=False\n",
    "if not is_met_trigger:\n",
    "    met_triggers_arr=np.ones(events.size, dtype=np.bool)\n",
    "else:\n",
    "    met_triggers_arr = np.zeros(events.size, dtype=np.bool)\n",
    "    for path in met_triggers[year]:\n",
    "        if path not in events.HLT.columns: continue\n",
    "        met_triggers_arr = met_triggers_arr | events.HLT[path]\n",
    "\n",
    "print(met_triggers_arr,met_triggers_arr.shape)"
   ]
  },
  {
   "cell_type": "code",
   "execution_count": 9,
   "metadata": {},
   "outputs": [
    {
     "name": "stdout",
     "output_type": "stream",
     "text": [
      "[ True  True  True ...  True  True  True] (17150,)\n"
     ]
    }
   ],
   "source": [
    "## single lepton trigger\n",
    "\n",
    "is_ele_trigger=False\n",
    "if not is_ele_trigger:\n",
    "    ele_triggers_arr=np.ones(events.size, dtype=np.bool)\n",
    "else:\n",
    "    ele_triggers_arr = np.zeros(events.size, dtype=np.bool)\n",
    "    for path in singleelectron_triggers[year]:\n",
    "        if path not in events.HLT.columns: continue\n",
    "        ele_triggers_arr = ele_triggers_arr | events.HLT[path]\n",
    "print(ele_triggers_arr,ele_triggers_arr.shape)"
   ]
  },
  {
   "cell_type": "code",
   "execution_count": 10,
   "metadata": {},
   "outputs": [
    {
     "name": "stdout",
     "output_type": "stream",
     "text": [
      "[ True  True  True ...  True  True  True] (17150,)\n"
     ]
    }
   ],
   "source": [
    "## single photon trigger\n",
    "\n",
    "is_pho_trigger=False\n",
    "if not is_pho_trigger:\n",
    "    pho_triggers_arr=np.ones(events.size, dtype=np.bool)\n",
    "else:\n",
    "    pho_triggers_arr = np.zeros(events.size, dtype=np.bool)\n",
    "    for path in singlephoton_triggers[year]:\n",
    "        if path not in events.HLT.columns: continue\n",
    "        pho_triggers_arr = pho_triggers_arr | events.HLT[path]\n",
    "print(pho_triggers_arr,pho_triggers_arr.shape)"
   ]
  },
  {
   "cell_type": "code",
   "execution_count": 11,
   "metadata": {},
   "outputs": [
    {
     "name": "stdout",
     "output_type": "stream",
     "text": [
      "Total 17088 number of events are remain after triggger\n"
=======
      "Total 17150 number of events\n"
>>>>>>> 669bc3b5efa53cf4c8fa10274d1ccbac7d8437a3
     ]
    }
   ],
   "source": [
<<<<<<< HEAD
    "events = events[met_filters & met_triggers_arr & ele_triggers_arr & pho_triggers_arr]\n",
    "print(\"Total {0} number of events are remain after triggger\".format(events.shape[0]))"
=======
    "print(\"Total {0} number of events\".format(len(events)))"
>>>>>>> 669bc3b5efa53cf4c8fa10274d1ccbac7d8437a3
   ]
  },
  {
   "cell_type": "markdown",
   "metadata": {},
   "source": [
    " - Particle branch to array"
   ]
  },
  {
   "cell_type": "code",
<<<<<<< HEAD
   "execution_count": 12,
=======
   "execution_count": 9,
>>>>>>> 669bc3b5efa53cf4c8fa10274d1ccbac7d8437a3
   "metadata": {},
   "outputs": [],
   "source": [
    "Electron = events.Electron\n",
    "Muon = events.Muon\n",
    "Photon = events.Photon\n",
    "MET = events.MET"
   ]
  },
  {
   "cell_type": "markdown",
   "metadata": {},
   "source": [
    " ### Particle Selection\n",
    " - MET > 20 GeV\n",
    " - PT$_{e,\\gamma}$ > 20 GeV,  |$\\eta_{l,\\gamma}$| < 2.5,\n",
    " - Electron cutbased_id > 1 ( Loose )\n",
    " - Photon cutbased_id > 0 ( Loose )"
   ]
  },
  {
   "cell_type": "markdown",
   "metadata": {},
   "source": [
    "#### How to apply cut in array-based method: Mask  \n",
    "arr1 = [1,1,2,1]  \n",
    "arr1_cut_mask = arr1 > 1  \n",
    "> [ False, False, True, False ]  \n",
    "  \n",
    "Sel_arr1 = arr1[arr1_cut_mask]  \n",
    "> [ 2 ]  "
   ]
  },
  {
   "cell_type": "code",
<<<<<<< HEAD
   "execution_count": 13,
=======
   "execution_count": 10,
>>>>>>> 669bc3b5efa53cf4c8fa10274d1ccbac7d8437a3
   "metadata": {},
   "outputs": [],
   "source": [
    "def Particle_Selection(MET,Electron,Photon):\n",
    "    MET_mask = MET.pt > 20\n",
    "    Electron_mask = (Electron.pt >20) & (np.abs(Electron.eta) < 2.5) & (Electron.cutBased > 1) \n",
    "    #Photon_mask = (Photon.pt > 20 ) & (np.abs(Photon.eta) < 2.5)  & (Photon.genPartFlav == 1) & (Photon.cutBasedBitmap > 0)\n",
    "    \n",
    "    Photon_mask = (Photon.pt > 20 ) & (np.abs(Photon.eta) < 2.5)  & (Photon.cutBasedBitmap > 0)\n",
    "    return(MET_mask,Electron_mask,Photon_mask)"
   ]
  },
  {
   "cell_type": "code",
<<<<<<< HEAD
   "execution_count": 14,
=======
   "execution_count": 11,
>>>>>>> 669bc3b5efa53cf4c8fa10274d1ccbac7d8437a3
   "metadata": {},
   "outputs": [],
   "source": [
    "MET_mask,Electron_mask,Photon_mask = Particle_Selection(MET,Electron,Photon)"
   ]
  },
  {
   "cell_type": "code",
<<<<<<< HEAD
   "execution_count": 15,
=======
   "execution_count": 12,
>>>>>>> 669bc3b5efa53cf4c8fa10274d1ccbac7d8437a3
   "metadata": {},
   "outputs": [],
   "source": [
    "Ele_Sel_mask = Electron[Electron_mask].counts > 2\n",
    "Pho_Sel_mask = Photon[Photon_mask].counts > 0\n",
    "\n",
    "Event_mask = Ele_Sel_mask & Pho_Sel_mask "
   ]
  },
  {
   "cell_type": "code",
<<<<<<< HEAD
   "execution_count": 16,
=======
   "execution_count": 14,
>>>>>>> 669bc3b5efa53cf4c8fa10274d1ccbac7d8437a3
   "metadata": {},
   "outputs": [
    {
     "name": "stdout",
     "output_type": "stream",
     "text": [
<<<<<<< HEAD
      " - Electron Cut Eff: 55.175001103411745 %\n",
      " - Photon Cut Eff: 62.587950470330114 %\n",
      " - Event Selection Eff: 2.1769662921348316%  | number of selected events: 372\n"
=======
      " - Electron Cut Eff: 55.18212211859933 %\n",
      " - Photon Cut Eff: 62.57258490234031 %\n",
      " - Event Selection Eff: 2.1749271137026236%  | number of selected events: 373\n"
>>>>>>> 669bc3b5efa53cf4c8fa10274d1ccbac7d8437a3
     ]
    }
   ],
   "source": [
    "print(\" - Electron Cut Eff: {0} %\".format(\n",
    "    np.sum(Electron_mask.content) /  len(Electron_mask.content) * 100\n",
    "    ))\n",
    "\n",
    "print(\" - Photon Cut Eff: {0} %\".format(\n",
    "    np.sum(Photon_mask.content) /  len(Photon_mask.content) * 100\n",
    "    ))\n",
    "\n",
    "print(\" - Event Selection Eff: {0}%  | number of selected events: {1}\".format(\n",
    "    np.sum(Event_mask) /  len(Event_mask) * 100, np.sum(Event_mask)\n",
    "    ))"
   ]
  },
  {
   "cell_type": "markdown",
   "metadata": {},
   "source": [
    "### Event Selection"
   ]
  },
  {
   "cell_type": "code",
<<<<<<< HEAD
   "execution_count": 17,
=======
   "execution_count": 15,
>>>>>>> 669bc3b5efa53cf4c8fa10274d1ccbac7d8437a3
   "metadata": {},
   "outputs": [],
   "source": [
    "Ele_channel_events = events[Event_mask]"
   ]
  },
  {
   "cell_type": "code",
<<<<<<< HEAD
   "execution_count": 18,
=======
   "execution_count": 16,
>>>>>>> 669bc3b5efa53cf4c8fa10274d1ccbac7d8437a3
   "metadata": {},
   "outputs": [],
   "source": [
    "Ele = Ele_channel_events.Electron\n",
    "Pho = Ele_channel_events.Photon"
   ]
  },
  {
   "cell_type": "code",
<<<<<<< HEAD
   "execution_count": 19,
=======
   "execution_count": 17,
>>>>>>> 669bc3b5efa53cf4c8fa10274d1ccbac7d8437a3
   "metadata": {},
   "outputs": [
    {
     "data": {
      "text/plain": [
<<<<<<< HEAD
       "<ElectronArray [[<Electron 78> <Electron 79> <Electron 80>] [<Electron 151> <Electron 152> <Electron 153>] [<Electron 259> <Electron 260> <Electron 261>] ... [<Electron 22494> <Electron 22495> <Electron 22496> <Electron 22497>] [<Electron 22637> <Electron 22638> <Electron 22639> <Electron 22640> <Electron 22641>] [<Electron 22689> <Electron 22690> <Electron 22691> <Electron 22692>]] at 0x7fac1d92e850>"
      ]
     },
     "execution_count": 19,
=======
       "<ElectronArray [[<Electron 78> <Electron 79> <Electron 80>] [<Electron 151> <Electron 152> <Electron 153>] [<Electron 259> <Electron 260> <Electron 261>] ... [<Electron 22494> <Electron 22495> <Electron 22496> <Electron 22497>] [<Electron 22637> <Electron 22638> <Electron 22639> <Electron 22640> <Electron 22641>] [<Electron 22689> <Electron 22690> <Electron 22691> <Electron 22692>]] at 0x7f86d18c6b20>"
      ]
     },
     "execution_count": 17,
>>>>>>> 669bc3b5efa53cf4c8fa10274d1ccbac7d8437a3
     "metadata": {},
     "output_type": "execute_result"
    }
   ],
   "source": [
    "Ele"
   ]
  },
  {
   "cell_type": "markdown",
   "metadata": {},
   "source": [
<<<<<<< HEAD
    " ### Choose OSSF "
=======
    " ### Choose different sign and highest-PT Electron pair\n",
    " - distincts() makes all possible particle pairs  \n",
    " - .i0 and .i1 choose each of paritlce pair\n",
    " - ele_pairs.i0+ele_pairs.i1 : Lorentz Sum"
>>>>>>> 669bc3b5efa53cf4c8fa10274d1ccbac7d8437a3
   ]
  },
  {
   "cell_type": "code",
<<<<<<< HEAD
   "execution_count": 20,
=======
   "execution_count": 18,
>>>>>>> 669bc3b5efa53cf4c8fa10274d1ccbac7d8437a3
   "metadata": {},
   "outputs": [],
   "source": [
    "# All possible pairs of Electron in each event\n",
<<<<<<< HEAD
    "#ele_pairs = Ele.distincts()\n",
    "\n",
    "# TLorentz vector sum of ele_pairs\n",
    "#diele = ele_pairs.i0+ele_pairs.i1\n",
    "\n",
    "# Choose different sign pair ( erase same-sign paris using cut mask)\n",
    "#diffsign_diele =  diele[diele.charge==0]\n",
    "\n",
    "# choose maximum pt pairs ( choose maximum-PT Electron paris)\n",
    "#leading_diffsign_diele = diffsign_diele[diffsign_diele.pt.argmax()]"
=======
    "ele_pairs = Ele.distincts()\n",
    "\n",
    "# TLorentz vector sum of ele_pairs\n",
    "diele = ele_pairs.i0+ele_pairs.i1\n",
    "\n",
    "# Choose different sign pair ( erase same-sign paris using cut mask)\n",
    "diffsign_diele =  diele[diele.charge==0]\n",
    "\n",
    "# choose maximum pt pairs ( choose maximum-PT Electron paris)\n",
    "leading_diffsign_diele = diffsign_diele[diffsign_diele.pt.argmax()]"
>>>>>>> 669bc3b5efa53cf4c8fa10274d1ccbac7d8437a3
   ]
  },
  {
   "cell_type": "code",
   "execution_count": 21,
   "metadata": {},
<<<<<<< HEAD
   "outputs": [],
   "source": [
    "ele_triple = Ele.choose(3)\n",
    "trieleMask = (ele_triple.counts == 1)\n",
    "\n",
    "ele_pairs = Ele.choose(2)\n",
    "\n",
    "def ossf_zmass_check(dileptons):\n",
    "    return ((dileptons.i0.charge != dileptons.i1.charge) & \n",
    "            (np.abs(91.18 - (dileptons.i0 + dileptons.i1).mass) < 15.)).any()\n",
    "\n",
    "\n",
    "trieleMask = trieleMask & ossf_zmass_check(ele_pairs)"
   ]
  },
  {
   "cell_type": "code",
   "execution_count": 22,
   "metadata": {},
   "outputs": [],
   "source": [
    "tri_electrons = Ele[trieleMask]"
   ]
  },
  {
   "cell_type": "code",
   "execution_count": 23,
   "metadata": {},
   "outputs": [],
   "source": [
    "ele_pairs = tri_electrons.choose(2)\n",
    "diele = ele_pairs.i0+ele_pairs.i1"
   ]
  },
  {
   "cell_type": "code",
   "execution_count": 24,
   "metadata": {},
   "outputs": [
    {
     "data": {
      "text/plain": [
       "<JaggedArrayMethods [[TLorentzVector(x=60.931, y=-10.353, z=150.04, t=187.43) TLorentzVector(x=50.738, y=-52.596, z=121.22, t=161.19)] [TLorentzVector(x=-18.895, y=20.608, z=94.781, t=240.12) TLorentzVector(x=-46.73, y=-100.55, z=-114.28, t=183.73)] [TLorentzVector(x=-59.219, y=-198.32, z=203.49, t=303.83) TLorentzVector(x=53.59, y=-62.617, z=80.85, t=147.62)] ... [TLorentzVector(x=86.353, y=-37.257, z=-170.56, t=214.41) TLorentzVector(x=-47.583, y=11.517, z=-239.29, t=269.96)] [TLorentzVector(x=54.027, y=-45.726, z=-118.24, t=164.92) TLorentzVector(x=-60.042, y=13.286, z=-260.74, t=293.52)] [TLorentzVector(x=87.708, y=-34.916, z=-167.88, t=212.06) TLorentzVector(x=-42.488, y=16.578, z=-239.11, t=268.76)]] at 0x7fac2c383ca0>"
      ]
     },
     "execution_count": 24,
     "metadata": {},
     "output_type": "execute_result"
    }
   ],
   "source": [
    "diffsign_diele =  diele[diele.charge==0]\n",
    "diffsign_diele"
=======
   "outputs": [
    {
     "name": "stdout",
     "output_type": "stream",
     "text": [
      "[[(<Electron 78>, <Electron 79>) (<Electron 78>, <Electron 80>) (<Electron 79>, <Electron 80>)] [(<Electron 151>, <Electron 152>) (<Electron 151>, <Electron 153>) (<Electron 152>, <Electron 153>)] [(<Electron 259>, <Electron 260>) (<Electron 259>, <Electron 261>) (<Electron 260>, <Electron 261>)] ... [(<Electron 22494>, <Electron 22495>) (<Electron 22494>, <Electron 22496>) (<Electron 22494>, <Electron 22497>) (<Electron 22495>, <Electron 22496>) (<Electron 22495>, <Electron 22497>) (<Electron 22496>, <Electron 22497>)] [(<Electron 22637>, <Electron 22638>) (<Electron 22637>, <Electron 22639>) (<Electron 22637>, <Electron 22640>) ... (<Electron 22639>, <Electron 22640>) (<Electron 22639>, <Electron 22641>) (<Electron 22640>, <Electron 22641>)] [(<Electron 22689>, <Electron 22690>) (<Electron 22689>, <Electron 22691>) (<Electron 22689>, <Electron 22692>) (<Electron 22690>, <Electron 22691>) (<Electron 22690>, <Electron 22692>) (<Electron 22691>, <Electron 22692>)]]\n",
      " \n",
      "[[<Electron 78> <Electron 78> <Electron 79>] [<Electron 151> <Electron 151> <Electron 152>] [<Electron 259> <Electron 259> <Electron 260>] ... [<Electron 22494> <Electron 22494> <Electron 22494> <Electron 22495> <Electron 22495> <Electron 22496>] [<Electron 22637> <Electron 22637> <Electron 22637> ... <Electron 22639> <Electron 22639> <Electron 22640>] [<Electron 22689> <Electron 22689> <Electron 22689> <Electron 22690> <Electron 22690> <Electron 22691>]]\n",
      " \n",
      "[[<Electron 79> <Electron 80> <Electron 80>] [<Electron 152> <Electron 153> <Electron 153>] [<Electron 260> <Electron 261> <Electron 261>] ... [<Electron 22495> <Electron 22496> <Electron 22497> <Electron 22496> <Electron 22497> <Electron 22497>] [<Electron 22638> <Electron 22639> <Electron 22640> ... <Electron 22640> <Electron 22641> <Electron 22641>] [<Electron 22690> <Electron 22691> <Electron 22692> <Electron 22691> <Electron 22692> <Electron 22692>]]\n",
      " \n",
      "[[TLorentzVector(x=8.9971, y=-30.047, z=19.359, t=64.533) TLorentzVector(x=-5.6296, y=-42.204, z=22.548, t=62.47)] [TLorentzVector(x=60.931, y=-10.353, z=150.04, t=187.43) TLorentzVector(x=50.738, y=-52.596, z=121.22, t=161.19)] [TLorentzVector(x=-18.895, y=20.608, z=94.781, t=240.12) TLorentzVector(x=-46.73, y=-100.55, z=-114.28, t=183.73)] ... [TLorentzVector(x=97.456, y=-40.798, z=-211.48, t=252.63) TLorentzVector(x=61.284, y=-38.713, z=-263.88, t=293.08) TLorentzVector(x=-38.07, y=14.342, z=-265.25, t=290.54) TLorentzVector(x=-74.243, y=16.426, z=-317.65, t=330.99)] [TLorentzVector(x=-249.02, y=-16.959, z=-230.46, t=351.63) TLorentzVector(x=-171.8, y=5.5245, z=-216.03, t=339.03) TLorentzVector(x=-193.4, y=-17.748, z=-202.89, t=322.08) TLorentzVector(x=79.834, y=94.139, z=582.53, t=661.51) TLorentzVector(x=157.06, y=116.62, z=596.96, t=648.9) TLorentzVector(x=135.46, y=93.349, z=610.11, t=631.95)] [TLorentzVector(x=64.029, y=-46.884, z=-137.04, t=181.45) TLorentzVector(x=-53.519, y=11.504, z=-236.46, t=267.11) TLorentzVector(x=-5.6296, y=55.686, z=-116.2, t=143.01)]]\n"
     ]
    }
   ],
   "source": [
    "## For study\n",
    "print(ele_pairs)\n",
    "print(\" \")\n",
    "print(ele_pairs.i0)\n",
    "print(\" \")\n",
    "print(ele_pairs.i1)\n",
    "print(\" \")\n",
    "print(diffsign_diele)"
>>>>>>> 669bc3b5efa53cf4c8fa10274d1ccbac7d8437a3
   ]
  },
  {
   "cell_type": "code",
<<<<<<< HEAD
   "execution_count": 39,
   "metadata": {},
   "outputs": [],
   "source": [
    "Zmass_window_mask = (np.abs(91.18 - diffsign_diele.mass) < 15)[:,0] & (np.abs(91.18 - diffsign_diele.mass) < 15)[:,1]"
   ]
  },
  {
   "cell_type": "code",
   "execution_count": 40,
   "metadata": {},
   "outputs": [],
   "source": [
    "Z_ele = diffsign_diele[Zmass_window_mask]"
   ]
  },
  {
   "cell_type": "code",
   "execution_count": 41,
   "metadata": {},
   "outputs": [],
   "source": [
    "Mee = Z_ele.mass.content ## contet -> Flatten array "
=======
   "execution_count": 22,
   "metadata": {},
   "outputs": [],
   "source": [
    "Mee = leading_diffsign_diele.mass.content ## contet -> Flatten array "
>>>>>>> 669bc3b5efa53cf4c8fa10274d1ccbac7d8437a3
   ]
  },
  {
   "cell_type": "code",
<<<<<<< HEAD
   "execution_count": 46,
   "metadata": {},
   "outputs": [
    {
     "data": {
      "text/plain": [
       "(40,)"
      ]
     },
     "execution_count": 46,
     "metadata": {},
     "output_type": "execute_result"
    }
   ],
   "source": [
    "Mee.shape"
   ]
  },
  {
   "cell_type": "code",
   "execution_count": 42,
=======
   "execution_count": 99,
>>>>>>> 669bc3b5efa53cf4c8fa10274d1ccbac7d8437a3
   "metadata": {},
   "outputs": [],
   "source": [
    "## --- Not now ...\n",
    "#def delta_r(pair):\n",
    "#    return pair.i0.delta_r(pair.i1)\n",
    "\n",
    "#JselE_pair = Jet.cross(Sel_Electron,nested=True)\n",
    "#dr_JselE_mask = (delta_r(JselE_pair) > 0.3).any()\n",
    "\n",
    "#JselA_pair = Jet.cross(Sel_Photon,nested=True)\n",
    "#dr_JselA_mask = (delta_r(JselA_pair)>0.3).any()\n",
    "\n",
    "\n",
    "#Jet_mask = Jet_basic_mask & dr_JselE_mask & dr_JselA_mask"
   ]
  },
  {
   "cell_type": "markdown",
   "metadata": {},
   "source": [
    "### Visualization"
   ]
  },
  {
   "cell_type": "code",
<<<<<<< HEAD
   "execution_count": 43,
=======
   "execution_count": 23,
>>>>>>> 669bc3b5efa53cf4c8fa10274d1ccbac7d8437a3
   "metadata": {},
   "outputs": [],
   "source": [
    "import mplhep as hep\n",
    "import matplotlib.pyplot as plt"
   ]
  },
  {
   "cell_type": "code",
<<<<<<< HEAD
   "execution_count": 44,
=======
   "execution_count": 24,
>>>>>>> 669bc3b5efa53cf4c8fa10274d1ccbac7d8437a3
   "metadata": {},
   "outputs": [
    {
     "data": {
      "text/plain": [
<<<<<<< HEAD
       "<matplotlib.legend.Legend at 0x7fac19bfff40>"
      ]
     },
     "execution_count": 44,
=======
       "<matplotlib.legend.Legend at 0x7f86bf43c310>"
      ]
     },
     "execution_count": 24,
>>>>>>> 669bc3b5efa53cf4c8fa10274d1ccbac7d8437a3
     "metadata": {},
     "output_type": "execute_result"
    },
    {
<<<<<<< HEAD
     "data": {
      "image/png": "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\n",
=======
     "name": "stderr",
     "output_type": "stream",
     "text": [
      "findfont: Font family ['cursive'] not found. Falling back to DejaVu Sans.\n"
     ]
    },
    {
     "data": {
      "image/png": "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\n",
>>>>>>> 669bc3b5efa53cf4c8fa10274d1ccbac7d8437a3
      "text/plain": [
       "<Figure size 504x504 with 1 Axes>"
      ]
     },
     "metadata": {
      "needs_background": "light"
     },
     "output_type": "display_data"
    }
   ],
   "source": [
    "plt.figure(figsize=(7, 7))\n",
    "plt.style.use(hep.style.CMS)\n",
    "plt.hist(Mee,bins=50,color='royalblue',alpha=0.7,label='ee channel')\n",
<<<<<<< HEAD
    "plt.xlim(0,400)\n",
=======
    "plt.xlim(0,200)\n",
>>>>>>> 669bc3b5efa53cf4c8fa10274d1ccbac7d8437a3
    "plt.xlabel('M(ee) [GeV]',fontsize=25)\n",
    "plt.ylabel('Nuber of events',fontsize=25)\n",
    "plt.yscale('log')\n",
    "plt.legend()"
   ]
  },
  {
   "cell_type": "code",
<<<<<<< HEAD
   "execution_count": 58,
   "metadata": {},
   "outputs": [
    {
     "data": {
      "text/plain": [
       "<function matplotlib.pyplot.close(fig=None)>"
      ]
     },
     "execution_count": 58,
     "metadata": {},
     "output_type": "execute_result"
    }
   ],
   "source": [
    "plt.close"
   ]
  },
  {
   "cell_type": "code",
   "execution_count": 62,
   "metadata": {},
   "outputs": [
    {
     "data": {
      "text/plain": [
       "(0.0, 200.0)"
      ]
     },
     "execution_count": 62,
     "metadata": {},
     "output_type": "execute_result"
    },
    {
     "data": {
      "image/png": "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\n",
      "text/plain": [
       "<Figure size 720x720 with 1 Axes>"
      ]
     },
     "metadata": {
      "needs_background": "light"
     },
     "output_type": "display_data"
    }
   ],
   "source": [
    "plt.hist(events.MET.pt,bins=100)\n",
    "plt.xlim([0,200])"
   ]
  },
  {
   "cell_type": "code",
   "execution_count": 71,
   "metadata": {},
   "outputs": [
    {
     "data": {
      "text/plain": [
       "(0.0, 200.0)"
      ]
     },
     "execution_count": 71,
     "metadata": {},
     "output_type": "execute_result"
    },
    {
     "data": {
      "image/png": "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\n",
      "text/plain": [
       "<Figure size 720x720 with 1 Axes>"
      ]
     },
     "metadata": {
      "needs_background": "light"
     },
     "output_type": "display_data"
    }
   ],
   "source": [
    "plt.close\n",
    "plt.hist(Electron.pt.content,bins=200)\n",
    "plt.xlim([0,200])"
   ]
  },
  {
   "cell_type": "code",
=======
>>>>>>> 669bc3b5efa53cf4c8fa10274d1ccbac7d8437a3
   "execution_count": null,
   "metadata": {},
   "outputs": [],
   "source": []
  }
 ],
 "metadata": {
  "kernelspec": {
   "display_name": "Python 3",
   "language": "python",
   "name": "python3"
  },
  "language_info": {
   "codemirror_mode": {
    "name": "ipython",
    "version": 3
   },
   "file_extension": ".py",
   "mimetype": "text/x-python",
   "name": "python",
   "nbconvert_exporter": "python",
   "pygments_lexer": "ipython3",
   "version": "3.8.5"
  }
 },
 "nbformat": 4,
 "nbformat_minor": 4
}
