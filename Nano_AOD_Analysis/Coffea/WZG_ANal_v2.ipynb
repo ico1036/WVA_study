{
 "cells": [
  {
   "cell_type": "code",
   "execution_count": 1,
   "metadata": {},
   "outputs": [],
   "source": [
    "import numpy as np\n",
    "import awkward as ak\n",
    "from coffea.nanoaod import NanoEvents\n",
    "from uproot_methods import TLorentzVectorArray\n",
    "import time\n",
    "from uproot_methods import TVector2Array"
   ]
  },
  {
   "cell_type": "code",
   "execution_count": 2,
   "metadata": {},
   "outputs": [
    {
     "name": "stdout",
     "output_type": "stream",
     "text": [
      "data/NanoAOD_files/scheme4_nano.root\n"
     ]
    }
   ],
   "source": [
    "!ls data/NanoAOD_files/scheme4_nano.root\n",
    "fname = \"data/NanoAOD_files/scheme4_nano.root\""
   ]
  },
  {
   "cell_type": "markdown",
   "metadata": {},
   "source": [
    "- Read event tree"
   ]
  },
  {
   "cell_type": "code",
   "execution_count": 3,
   "metadata": {},
   "outputs": [],
   "source": [
    "events = NanoEvents.from_file(fname)"
   ]
  },
  {
   "cell_type": "code",
   "execution_count": 4,
   "metadata": {},
   "outputs": [],
   "source": [
    "## Met Filter\n",
    "met_filter_flags = {\n",
    "     \n",
    "        '2016': ['goodVertices',\n",
    "                 'globalSuperTightHalo2016Filter',\n",
    "                 'HBHENoiseFilter',\n",
    "                 'HBHENoiseIsoFilter',\n",
    "                 'EcalDeadCellTriggerPrimitiveFilter',\n",
    "                 'BadPFMuonFilter'\n",
    "             ],\n",
    "\n",
    "        '2017': ['goodVertices',\n",
    "                 'globalSuperTightHalo2016Filter',\n",
    "                 'HBHENoiseFilter',\n",
    "                 'HBHENoiseIsoFilter',\n",
    "                 'EcalDeadCellTriggerPrimitiveFilter',\n",
    "                 'BadPFMuonFilter',\n",
    "                 'ecalBadCalibFilterV2'\n",
    "             ],\n",
    "\n",
    "        '2018': ['goodVertices',\n",
    "                 'globalSuperTightHalo2016Filter',\n",
    "                 'HBHENoiseFilter',\n",
    "                 'HBHENoiseIsoFilter',\n",
    "                 'EcalDeadCellTriggerPrimitiveFilter',\n",
    "                 'BadPFMuonFilter',\n",
    "                 'ecalBadCalibFilterV2'\n",
    "             ]\n",
    "    }\n"
   ]
  },
  {
   "cell_type": "code",
   "execution_count": 5,
   "metadata": {},
   "outputs": [],
   "source": [
    "## Triggers\n",
    "\n",
    "met_triggers = {\n",
    "            '2016': [\n",
    "                'PFMETNoMu90_PFMHTNoMu90_IDTight',\n",
    "                'PFMETNoMu100_PFMHTNoMu100_IDTight',\n",
    "                'PFMETNoMu110_PFMHTNoMu110_IDTight',\n",
    "                'PFMETNoMu120_PFMHTNoMu120_IDTight'\n",
    "            ],\n",
    "            '2017': [\n",
    "                'PFMETNoMu120_PFMHTNoMu120_IDTight_PFHT60',\n",
    "                'PFMETNoMu120_PFMHTNoMu120_IDTight'\n",
    "            ],\n",
    "            '2018': [\n",
    "                'PFMETNoMu120_PFMHTNoMu120_IDTight_PFHT60',\n",
    "                'PFMETNoMu120_PFMHTNoMu120_IDTight'\n",
    "            ]\n",
    "        }\n",
    "\n",
    "singlephoton_triggers = {\n",
    "            '2016': [\n",
    "                'Photon175',\n",
    "                'Photon165_HE10'\n",
    "            ],\n",
    "            '2017': [\n",
    "                'Photon200'\n",
    "            ],\n",
    "            '2018': [\n",
    "                'Photon200'\n",
    "            ]\n",
    "        }\n",
    "\n",
    "singleelectron_triggers = { #2017 and 2018 from monojet, applying dedicated trigger weights\n",
    "            '2016': [\n",
    "                'Ele27_WPTight_Gsf',\n",
    "                'Ele105_CaloIdVT_GsfTrkIdT'\n",
    "            ],\n",
    "            '2017': [\n",
    "                'Ele35_WPTight_Gsf',\n",
    "                'Ele115_CaloIdVT_GsfTrkIdT',\n",
    "                'Photon200'\n",
    "            ],\n",
    "            '2018': [\n",
    "                'Ele32_WPTight_Gsf',\n",
    "                'Ele115_CaloIdVT_GsfTrkIdT',\n",
    "                'Photon200'\n",
    "            ]\n",
    "        }"
   ]
  },
  {
   "cell_type": "code",
   "execution_count": 6,
   "metadata": {},
   "outputs": [
    {
     "name": "stdout",
     "output_type": "stream",
     "text": [
      "Total 17150 number of events\n"
     ]
    }
   ],
   "source": [
    "print(\"Total {0} number of events\".format(events.shape[0]))"
   ]
  },
  {
   "cell_type": "code",
   "execution_count": 7,
   "metadata": {},
   "outputs": [
    {
     "name": "stdout",
     "output_type": "stream",
     "text": [
      "[ True  True  True ...  True  True  True] (17150,)\n"
     ]
    }
   ],
   "source": [
    "## met filter\n",
    "year='2018'\n",
    "is_met_filter=True\n",
    "if not is_met_filter:\n",
    "    met_filters =  np.ones(events.size, dtype=np.bool)\n",
    "else:\n",
    "    met_filters =  np.ones(events.size, dtype=np.bool)\n",
    "    for flag in met_filter_flags[year]:\n",
    "        if flag not in events.Flag.columns: continue\n",
    "        met_filters = met_filters & events.Flag[flag]\n",
    "print(met_filters,met_filters.shape)"
   ]
  },
  {
   "cell_type": "code",
   "execution_count": 8,
   "metadata": {},
   "outputs": [
    {
     "name": "stdout",
     "output_type": "stream",
     "text": [
      "[ True  True  True ...  True  True  True] (17150,)\n"
     ]
    }
   ],
   "source": [
    "## met trigger\n",
    "\n",
    "is_met_trigger=False\n",
    "if not is_met_trigger:\n",
    "    met_triggers_arr=np.ones(events.size, dtype=np.bool)\n",
    "else:\n",
    "    met_triggers_arr = np.zeros(events.size, dtype=np.bool)\n",
    "    for path in met_triggers[year]:\n",
    "        if path not in events.HLT.columns: continue\n",
    "        met_triggers_arr = met_triggers_arr | events.HLT[path]\n",
    "\n",
    "print(met_triggers_arr,met_triggers_arr.shape)"
   ]
  },
  {
   "cell_type": "code",
   "execution_count": 9,
   "metadata": {},
   "outputs": [
    {
     "name": "stdout",
     "output_type": "stream",
     "text": [
      "[ True  True  True ...  True  True  True] (17150,)\n"
     ]
    }
   ],
   "source": [
    "## single lepton trigger\n",
    "\n",
    "is_ele_trigger=False\n",
    "if not is_ele_trigger:\n",
    "    ele_triggers_arr=np.ones(events.size, dtype=np.bool)\n",
    "else:\n",
    "    ele_triggers_arr = np.zeros(events.size, dtype=np.bool)\n",
    "    for path in singleelectron_triggers[year]:\n",
    "        if path not in events.HLT.columns: continue\n",
    "        ele_triggers_arr = ele_triggers_arr | events.HLT[path]\n",
    "print(ele_triggers_arr,ele_triggers_arr.shape)"
   ]
  },
  {
   "cell_type": "code",
   "execution_count": 10,
   "metadata": {},
   "outputs": [
    {
     "name": "stdout",
     "output_type": "stream",
     "text": [
      "[ True  True  True ...  True  True  True] (17150,)\n"
     ]
    }
   ],
   "source": [
    "## single photon trigger\n",
    "\n",
    "is_pho_trigger=False\n",
    "if not is_pho_trigger:\n",
    "    pho_triggers_arr=np.ones(events.size, dtype=np.bool)\n",
    "else:\n",
    "    pho_triggers_arr = np.zeros(events.size, dtype=np.bool)\n",
    "    for path in singlephoton_triggers[year]:\n",
    "        if path not in events.HLT.columns: continue\n",
    "        pho_triggers_arr = pho_triggers_arr | events.HLT[path]\n",
    "print(pho_triggers_arr,pho_triggers_arr.shape)"
   ]
  },
  {
   "cell_type": "code",
   "execution_count": 11,
   "metadata": {},
   "outputs": [
    {
     "name": "stdout",
     "output_type": "stream",
     "text": [
      "Total 17088 number of events are remain after triggger\n"
     ]
    }
   ],
   "source": [
    "events = events[met_filters & met_triggers_arr & ele_triggers_arr & pho_triggers_arr]\n",
    "print(\"Total {0} number of events are remain after triggger\".format(events.shape[0]))"
   ]
  },
  {
   "cell_type": "markdown",
   "metadata": {},
   "source": [
    " - Particle branch to array"
   ]
  },
  {
   "cell_type": "code",
   "execution_count": 12,
   "metadata": {},
   "outputs": [],
   "source": [
    "Electron = events.Electron\n",
    "Muon = events.Muon\n",
    "Photon = events.Photon\n",
    "MET = events.MET"
   ]
  },
  {
   "cell_type": "markdown",
   "metadata": {},
   "source": [
    " ### Particle Selection\n",
    " - MET > 20 GeV\n",
    " - PT$_{e,\\gamma}$ > 20 GeV,  |$\\eta_{l,\\gamma}$| < 2.5,\n",
    " - Electron cutbased_id > 1 ( Loose )\n",
    " - Photon cutbased_id > 0 ( Loose )"
   ]
  },
  {
   "cell_type": "markdown",
   "metadata": {},
   "source": [
    "#### How to apply cut in array-based method: Mask  \n",
    "arr1 = [1,1,2,1]  \n",
    "arr1_cut_mask = arr1 > 1  \n",
    "> [ False, False, True, False ]  \n",
    "  \n",
    "Sel_arr1 = arr1[arr1_cut_mask]  \n",
    "> [ 2 ]  "
   ]
  },
  {
   "cell_type": "code",
   "execution_count": 13,
   "metadata": {},
   "outputs": [],
   "source": [
    "def Particle_Selection(MET,Electron,Photon):\n",
    "    MET_mask = MET.pt > 20\n",
    "    Electron_mask = (Electron.pt >20) & (np.abs(Electron.eta) < 2.5) & (Electron.cutBased > 1) \n",
    "    #Photon_mask = (Photon.pt > 20 ) & (np.abs(Photon.eta) < 2.5)  & (Photon.genPartFlav == 1) & (Photon.cutBasedBitmap > 0)\n",
    "    \n",
    "    Photon_mask = (Photon.pt > 20 ) & (np.abs(Photon.eta) < 2.5)  & (Photon.cutBasedBitmap > 0)\n",
    "    return(MET_mask,Electron_mask,Photon_mask)"
   ]
  },
  {
   "cell_type": "code",
   "execution_count": 14,
   "metadata": {},
   "outputs": [],
   "source": [
    "MET_mask,Electron_mask,Photon_mask = Particle_Selection(MET,Electron,Photon)"
   ]
  },
  {
   "cell_type": "code",
   "execution_count": 15,
   "metadata": {},
   "outputs": [],
   "source": [
    "Ele_Sel_mask = Electron[Electron_mask].counts > 2\n",
    "Pho_Sel_mask = Photon[Photon_mask].counts > 0\n",
    "\n",
    "Event_mask = Ele_Sel_mask & Pho_Sel_mask "
   ]
  },
  {
   "cell_type": "code",
   "execution_count": 16,
   "metadata": {},
   "outputs": [
    {
     "name": "stdout",
     "output_type": "stream",
     "text": [
      " - Electron Cut Eff: 55.175001103411745 %\n",
      " - Photon Cut Eff: 62.587950470330114 %\n",
      " - Event Selection Eff: 2.1769662921348316%  | number of selected events: 372\n"
     ]
    }
   ],
   "source": [
    "print(\" - Electron Cut Eff: {0} %\".format(\n",
    "    np.sum(Electron_mask.content) /  len(Electron_mask.content) * 100\n",
    "    ))\n",
    "\n",
    "print(\" - Photon Cut Eff: {0} %\".format(\n",
    "    np.sum(Photon_mask.content) /  len(Photon_mask.content) * 100\n",
    "    ))\n",
    "\n",
    "print(\" - Event Selection Eff: {0}%  | number of selected events: {1}\".format(\n",
    "    np.sum(Event_mask) /  len(Event_mask) * 100, np.sum(Event_mask)\n",
    "    ))"
   ]
  },
  {
   "cell_type": "markdown",
   "metadata": {},
   "source": [
    "### Event Selection"
   ]
  },
  {
   "cell_type": "code",
   "execution_count": 17,
   "metadata": {},
   "outputs": [],
   "source": [
    "Ele_channel_events = events[Event_mask]"
   ]
  },
  {
   "cell_type": "code",
   "execution_count": 18,
   "metadata": {},
   "outputs": [],
   "source": [
    "Ele = Ele_channel_events.Electron\n",
    "Pho = Ele_channel_events.Photon"
   ]
  },
  {
   "cell_type": "code",
   "execution_count": 19,
   "metadata": {},
   "outputs": [
    {
     "data": {
      "text/plain": [
       "<ElectronArray [[<Electron 78> <Electron 79> <Electron 80>] [<Electron 151> <Electron 152> <Electron 153>] [<Electron 259> <Electron 260> <Electron 261>] ... [<Electron 22494> <Electron 22495> <Electron 22496> <Electron 22497>] [<Electron 22637> <Electron 22638> <Electron 22639> <Electron 22640> <Electron 22641>] [<Electron 22689> <Electron 22690> <Electron 22691> <Electron 22692>]] at 0x7fac1d92e850>"
      ]
     },
     "execution_count": 19,
     "metadata": {},
     "output_type": "execute_result"
    }
   ],
   "source": [
    "Ele"
   ]
  },
  {
   "cell_type": "markdown",
   "metadata": {},
   "source": [
    " ### Choose OSSF "
   ]
  },
  {
   "cell_type": "code",
   "execution_count": 20,
   "metadata": {},
   "outputs": [],
   "source": [
    "# All possible pairs of Electron in each event\n",
    "#ele_pairs = Ele.distincts()\n",
    "\n",
    "# TLorentz vector sum of ele_pairs\n",
    "#diele = ele_pairs.i0+ele_pairs.i1\n",
    "\n",
    "# Choose different sign pair ( erase same-sign paris using cut mask)\n",
    "#diffsign_diele =  diele[diele.charge==0]\n",
    "\n",
    "# choose maximum pt pairs ( choose maximum-PT Electron paris)\n",
    "#leading_diffsign_diele = diffsign_diele[diffsign_diele.pt.argmax()]"
   ]
  },
  {
   "cell_type": "code",
   "execution_count": 21,
   "metadata": {},
   "outputs": [],
   "source": [
    "ele_triple = Ele.choose(3)\n",
    "trieleMask = (ele_triple.counts == 1)\n",
    "\n",
    "ele_pairs = Ele.choose(2)\n",
    "\n",
    "def ossf_zmass_check(dileptons):\n",
    "    return ((dileptons.i0.charge != dileptons.i1.charge) & \n",
    "            (np.abs(91.18 - (dileptons.i0 + dileptons.i1).mass) < 15.)).any()\n",
    "\n",
    "\n",
    "trieleMask = trieleMask & ossf_zmass_check(ele_pairs)"
   ]
  },
  {
   "cell_type": "code",
   "execution_count": 22,
   "metadata": {},
   "outputs": [],
   "source": [
    "tri_electrons = Ele[trieleMask]"
   ]
  },
  {
   "cell_type": "code",
   "execution_count": 23,
   "metadata": {},
   "outputs": [],
   "source": [
    "ele_pairs = tri_electrons.choose(2)\n",
    "diele = ele_pairs.i0+ele_pairs.i1"
   ]
  },
  {
   "cell_type": "code",
   "execution_count": 24,
   "metadata": {},
   "outputs": [
    {
     "data": {
      "text/plain": [
       "<JaggedArrayMethods [[TLorentzVector(x=60.931, y=-10.353, z=150.04, t=187.43) TLorentzVector(x=50.738, y=-52.596, z=121.22, t=161.19)] [TLorentzVector(x=-18.895, y=20.608, z=94.781, t=240.12) TLorentzVector(x=-46.73, y=-100.55, z=-114.28, t=183.73)] [TLorentzVector(x=-59.219, y=-198.32, z=203.49, t=303.83) TLorentzVector(x=53.59, y=-62.617, z=80.85, t=147.62)] ... [TLorentzVector(x=86.353, y=-37.257, z=-170.56, t=214.41) TLorentzVector(x=-47.583, y=11.517, z=-239.29, t=269.96)] [TLorentzVector(x=54.027, y=-45.726, z=-118.24, t=164.92) TLorentzVector(x=-60.042, y=13.286, z=-260.74, t=293.52)] [TLorentzVector(x=87.708, y=-34.916, z=-167.88, t=212.06) TLorentzVector(x=-42.488, y=16.578, z=-239.11, t=268.76)]] at 0x7fac2c383ca0>"
      ]
     },
     "execution_count": 24,
     "metadata": {},
     "output_type": "execute_result"
    }
   ],
   "source": [
    "diffsign_diele =  diele[diele.charge==0]\n",
    "diffsign_diele"
   ]
  },
  {
   "cell_type": "code",
   "execution_count": 39,
   "metadata": {},
   "outputs": [],
   "source": [
    "Zmass_window_mask = (np.abs(91.18 - diffsign_diele.mass) < 15)[:,0] & (np.abs(91.18 - diffsign_diele.mass) < 15)[:,1]"
   ]
  },
  {
   "cell_type": "code",
   "execution_count": 40,
   "metadata": {},
   "outputs": [],
   "source": [
    "Z_ele = diffsign_diele[Zmass_window_mask]"
   ]
  },
  {
   "cell_type": "code",
   "execution_count": 41,
   "metadata": {},
   "outputs": [],
   "source": [
    "Mee = Z_ele.mass.content ## contet -> Flatten array "
   ]
  },
  {
   "cell_type": "code",
   "execution_count": 46,
   "metadata": {},
   "outputs": [
    {
     "data": {
      "text/plain": [
       "(40,)"
      ]
     },
     "execution_count": 46,
     "metadata": {},
     "output_type": "execute_result"
    }
   ],
   "source": [
    "Mee.shape"
   ]
  },
  {
   "cell_type": "code",
   "execution_count": 42,
   "metadata": {},
   "outputs": [],
   "source": [
    "## --- Not now ...\n",
    "#def delta_r(pair):\n",
    "#    return pair.i0.delta_r(pair.i1)\n",
    "\n",
    "#JselE_pair = Jet.cross(Sel_Electron,nested=True)\n",
    "#dr_JselE_mask = (delta_r(JselE_pair) > 0.3).any()\n",
    "\n",
    "#JselA_pair = Jet.cross(Sel_Photon,nested=True)\n",
    "#dr_JselA_mask = (delta_r(JselA_pair)>0.3).any()\n",
    "\n",
    "\n",
    "#Jet_mask = Jet_basic_mask & dr_JselE_mask & dr_JselA_mask"
   ]
  },
  {
   "cell_type": "markdown",
   "metadata": {},
   "source": [
    "### Visualization"
   ]
  },
  {
   "cell_type": "code",
   "execution_count": 43,
   "metadata": {},
   "outputs": [],
   "source": [
    "import mplhep as hep\n",
    "import matplotlib.pyplot as plt"
   ]
  },
  {
   "cell_type": "code",
   "execution_count": 44,
   "metadata": {},
   "outputs": [
    {
     "data": {
      "text/plain": [
       "<matplotlib.legend.Legend at 0x7fac19bfff40>"
      ]
     },
     "execution_count": 44,
     "metadata": {},
     "output_type": "execute_result"
    },
    {
     "data": {
      "image/png": "[encoded data removed]",
      "text/plain": [
       "<Figure size 504x504 with 1 Axes>"
      ]
     },
     "metadata": {
      "needs_background": "light"
     },
     "output_type": "display_data"
    }
   ],
   "source": [
    "plt.figure(figsize=(7, 7))\n",
    "plt.style.use(hep.style.CMS)\n",
    "plt.hist(Mee,bins=50,color='royalblue',alpha=0.7,label='ee channel')\n",
    "plt.xlim(0,400)\n",
    "plt.xlabel('M(ee) [GeV]',fontsize=25)\n",
    "plt.ylabel('Nuber of events',fontsize=25)\n",
    "plt.yscale('log')\n",
    "plt.legend()"
   ]
  },
  {
   "cell_type": "code",
   "execution_count": 58,
   "metadata": {},
   "outputs": [
    {
     "data": {
      "text/plain": [
       "<function matplotlib.pyplot.close(fig=None)>"
      ]
     },
     "execution_count": 58,
     "metadata": {},
     "output_type": "execute_result"
    }
   ],
   "source": [
    "plt.close"
   ]
  },
  {
   "cell_type": "code",
   "execution_count": 62,
   "metadata": {},
   "outputs": [
    {
     "data": {
      "text/plain": [
       "(0.0, 200.0)"
      ]
     },
     "execution_count": 62,
     "metadata": {},
     "output_type": "execute_result"
    },
    {
     "data": {
      "image/png": "[encoded data removed]",
      "text/plain": [
       "<Figure size 720x720 with 1 Axes>"
      ]
     },
     "metadata": {
      "needs_background": "light"
     },
     "output_type": "display_data"
    }
   ],
   "source": [
    "plt.hist(events.MET.pt,bins=100)\n",
    "plt.xlim([0,200])"
   ]
  },
  {
   "cell_type": "code",
   "execution_count": 71,
   "metadata": {},
   "outputs": [
    {
     "data": {
      "text/plain": [
       "(0.0, 200.0)"
      ]
     },
     "execution_count": 71,
     "metadata": {},
     "output_type": "execute_result"
    },
    {
     "data": {
      "image/png": "[encoded data removed]",
      "text/plain": [
       "<Figure size 720x720 with 1 Axes>"
      ]
     },
     "metadata": {
      "needs_background": "light"
     },
     "output_type": "display_data"
    }
   ],
   "source": [
    "plt.close\n",
    "plt.hist(Electron.pt.content,bins=200)\n",
    "plt.xlim([0,200])"
   ]
  },
  {
   "cell_type": "code",
   "execution_count": null,
   "metadata": {},
   "outputs": [],
   "source": []
  }
 ],
 "metadata": {
  "kernelspec": {
   "display_name": "Python 3",
   "language": "python",
   "name": "python3"
  },
  "language_info": {
   "codemirror_mode": {
    "name": "ipython",
    "version": 3
   },
   "file_extension": ".py",
   "mimetype": "text/x-python",
   "name": "python",
   "nbconvert_exporter": "python",
   "pygments_lexer": "ipython3",
   "version": "3.8.5"
  }
 },
 "nbformat": 4,
 "nbformat_minor": 4
}
