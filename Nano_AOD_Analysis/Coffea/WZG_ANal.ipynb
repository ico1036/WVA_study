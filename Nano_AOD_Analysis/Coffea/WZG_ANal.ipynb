{
 "cells": [
  {
   "cell_type": "code",
   "execution_count": 1,
   "metadata": {},
   "outputs": [],
   "source": [
    "import numpy as np\n",
    "import awkward as ak\n",
    "from coffea.nanoaod import NanoEvents\n",
    "from uproot_methods import TLorentzVectorArray\n",
    "import time\n",
    "from uproot_methods import TVector2Array"
   ]
  },
  {
   "cell_type": "markdown",
   "metadata": {},
   "source": [
    "## WZG NanoAOD analysis using Coffea (JIwoong)  \n",
    "### 1. Read Files"
   ]
  },
  {
   "cell_type": "code",
   "execution_count": 2,
   "metadata": {},
   "outputs": [
    {
     "name": "stdout",
     "output_type": "stream",
     "text": [
      "data/NanoAOD_files/scheme4_nano.root\n"
     ]
    }
   ],
   "source": [
    "!ls data/NanoAOD_files/scheme4_nano.root\n",
    "fname = \"data/NanoAOD_files/scheme4_nano.root\""
   ]
  },
  {
   "cell_type": "code",
   "execution_count": 3,
   "metadata": {},
   "outputs": [],
   "source": [
    "events = NanoEvents.from_file(fname)"
   ]
  },
  {
   "cell_type": "markdown",
   "metadata": {},
   "source": [
    "### 2. Trigger & MET filter \n",
    " - Trigger will be applied after the dataset is fixed\n",
    " - 2018 METFilters are applied"
   ]
  },
  {
   "cell_type": "code",
   "execution_count": 4,
   "metadata": {},
   "outputs": [],
   "source": [
    "## Triggers & MET filter\n",
    "\n",
    "met_filter_flags = {\n",
    "     \n",
    "        '2016': ['goodVertices',\n",
    "                 'globalSuperTightHalo2016Filter',\n",
    "                 'HBHENoiseFilter',\n",
    "                 'HBHENoiseIsoFilter',\n",
    "                 'EcalDeadCellTriggerPrimitiveFilter',\n",
    "                 'BadPFMuonFilter'\n",
    "             ],\n",
    "\n",
    "        '2017': ['goodVertices',\n",
    "                 'globalSuperTightHalo2016Filter',\n",
    "                 'HBHENoiseFilter',\n",
    "                 'HBHENoiseIsoFilter',\n",
    "                 'EcalDeadCellTriggerPrimitiveFilter',\n",
    "                 'BadPFMuonFilter',\n",
    "                 'ecalBadCalibFilterV2'\n",
    "             ],\n",
    "\n",
    "        '2018': ['goodVertices',\n",
    "                 'globalSuperTightHalo2016Filter',\n",
    "                 'HBHENoiseFilter',\n",
    "                 'HBHENoiseIsoFilter',\n",
    "                 'EcalDeadCellTriggerPrimitiveFilter',\n",
    "                 'BadPFMuonFilter',\n",
    "                 'ecalBadCalibFilterV2'\n",
    "             ]\n",
    "    }\n",
    "\n",
    "\n",
    "doubleelectron_triggers  ={\n",
    "    '2018': [\n",
    "    #        \"HLT_Ele23_Ele12_CaloIdL_TrackIdL_IsoVL_DZ\",\n",
    "    #        \"HLT_Ele23_Ele12_CaloIdL_TrackIdL_IsoVL\",\n",
    "            \"HLT_DiEle27_WPTightCaloOnly_L1DoubleEG\",\n",
    "    #        \"HLT_DoubleEle33_CaloIdL_MW\",\n",
    "    #        \"HLT_DoubleEle25_CaloIdL_MW\"\n",
    "    #        \"HLT_DoubleEle27_CaloIdL_MW\",\n",
    "    #        \"HLT_DoublePhoton70\"\n",
    "            ]\n",
    "        }\n",
    "\n",
    "\n",
    "\n",
    "singleelectron_triggers = { #2017 and 2018 from monojet, applying dedicated trigger weights\n",
    "            '2016': [\n",
    "                'Ele27_WPTight_Gsf',\n",
    "                'Ele105_CaloIdVT_GsfTrkIdT'\n",
    "            ],\n",
    "            '2017': [\n",
    "                'Ele35_WPTight_Gsf',\n",
    "                'Ele115_CaloIdVT_GsfTrkIdT',\n",
    "                'Photon200'\n",
    "            ],\n",
    "            '2018': [\n",
    "                'Ele32_WPTight_Gsf',   # Isolated\n",
    "                #'Ele115_CaloIdVT_GsfTrkIdT',  # Non-Isolated\n",
    "                #'Photon200' # high PT\n",
    "            ]\n",
    "        }"
   ]
  },
  {
   "cell_type": "code",
   "execution_count": 5,
   "metadata": {},
   "outputs": [
    {
     "name": "stdout",
     "output_type": "stream",
     "text": [
      "[ True  True  True ...  True  True  True] (17150,)\n"
     ]
    }
   ],
   "source": [
    "## met filter\n",
    "year='2018'\n",
    "is_met_filter=True\n",
    "if not is_met_filter:\n",
    "    met_filters =  np.ones(events.size, dtype=np.bool)\n",
    "else:\n",
    "    met_filters =  np.ones(events.size, dtype=np.bool)\n",
    "    for flag in met_filter_flags[year]:\n",
    "        if flag not in events.Flag.columns: continue # There is no ecalBadCalibFilterV2 in NanoAOD\n",
    "        met_filters = met_filters & events.Flag[flag]\n",
    "print(met_filters,met_filters.shape)"
   ]
  },
  {
   "cell_type": "code",
   "execution_count": 6,
   "metadata": {},
   "outputs": [
    {
     "name": "stdout",
     "output_type": "stream",
     "text": [
      "[ True  True  True ...  True  True  True] (17150,)\n"
     ]
    }
   ],
   "source": [
    "## double lepton trigger\n",
    "\n",
    "is_ele_trigger=False\n",
    "if not is_ele_trigger:\n",
    "    ele_triggers_arr=np.ones(events.size, dtype=np.bool)\n",
    "else:\n",
    "    ele_triggers_arr = np.zeros(events.size, dtype=np.bool)\n",
    "    for path in doubleelectron_triggers[year]:\n",
    "        if path not in events.HLT.columns: continue\n",
    "        ele_triggers_arr = ele_triggers_arr | events.HLT[path]\n",
    "print(ele_triggers_arr,ele_triggers_arr.shape)"
   ]
  },
  {
   "cell_type": "code",
   "execution_count": 7,
   "metadata": {},
   "outputs": [
    {
     "name": "stdout",
     "output_type": "stream",
     "text": [
      "Total 17088 number of events are remain after triggger\n"
     ]
    }
   ],
   "source": [
    "events = events[met_filters & ele_triggers_arr]\n",
    "print(\"Total {0} number of events are remain after triggger\".format(events.shape[0]))"
   ]
  },
  {
   "cell_type": "markdown",
   "metadata": {},
   "source": [
    " - Particle branch to array"
   ]
  },
  {
   "cell_type": "code",
   "execution_count": 8,
   "metadata": {},
   "outputs": [],
   "source": [
    "Electron = events.Electron\n",
    "Muon = events.Muon\n",
    "Photon = events.Photon\n",
    "MET = events.MET\n",
    "\n",
    "#events.Electron['T'] = TVector2Array.from_polar(Electron.pt, Electron.phi) --> Ok\n",
    "#events.MET['T'] = TVector2Array.from_polar(MET.pt, MET.phi) --> Raise Error"
   ]
  },
  {
   "cell_type": "markdown",
   "metadata": {},
   "source": [
    "---\n",
    "### 3. Particle Selection\n",
    " - MET > 20 GeV\n",
    " - PT$_{e,\\gamma}$ > 20 GeV,  |$\\eta_{l,\\gamma}$| < 2.5,\n",
    " - Electron cutbased_id > 1 ( Loose )\n",
    " - Photon cutbased_id > 0 ( Loose )"
   ]
  },
  {
   "cell_type": "markdown",
   "metadata": {},
   "source": [
    "---\n",
    "#### How to apply cut in array-based method: Mask  \n",
    "arr1 = [1,1,2,1]  \n",
    "arr1_cut_mask = arr1 > 1  \n",
    "> [ False, False, True, False ]  \n",
    "  \n",
    "Sel_arr1 = arr1[arr1_cut_mask]  \n",
    "> [ 2 ]  "
   ]
  },
  {
   "cell_type": "code",
   "execution_count": 9,
   "metadata": {},
   "outputs": [],
   "source": [
    "def Particle_Selection(MET,Electron,Photon):\n",
    "    MET_mask = MET.pt > 20\n",
    "    Electron_mask = (Electron.pt >20) & (np.abs(Electron.eta) < 2.5) & (Electron.cutBased > 1) \n",
    "    #Photon_mask = (Photon.pt > 20 ) & (np.abs(Photon.eta) < 2.5)  & (Photon.genPartFlav == 1) & (Photon.cutBasedBitmap > 0)\n",
    "    \n",
    "    Photon_mask = (Photon.pt > 20 ) & (np.abs(Photon.eta) < 2.5)  & (Photon.cutBasedBitmap > 0)\n",
    "    return(MET_mask,Electron_mask,Photon_mask)"
   ]
  },
  {
   "cell_type": "code",
   "execution_count": 10,
   "metadata": {},
   "outputs": [],
   "source": [
    "MET_mask,Electron_mask,Photon_mask = Particle_Selection(MET,Electron,Photon)"
   ]
  },
  {
   "cell_type": "code",
   "execution_count": 11,
   "metadata": {},
   "outputs": [],
   "source": [
    "Ele_Sel_mask = Electron[Electron_mask].counts > 2\n",
    "Pho_Sel_mask = Photon[Photon_mask].counts > 0\n",
    "\n",
    "Event_mask = Ele_Sel_mask & Pho_Sel_mask "
   ]
  },
  {
   "cell_type": "code",
   "execution_count": 12,
   "metadata": {},
   "outputs": [
    {
     "name": "stdout",
     "output_type": "stream",
     "text": [
      " - Electron Cut Eff: 55.175001103411745 %\n",
      " - Photon Cut Eff: 62.587950470330114 %\n",
      " - Event Selection Eff: 2.1769662921348316%  | number of selected events: 372\n"
     ]
    }
   ],
   "source": [
    "print(\" - Electron Cut Eff: {0} %\".format(\n",
    "    np.sum(Electron_mask.content) /  len(Electron_mask.content) * 100\n",
    "    ))\n",
    "\n",
    "print(\" - Photon Cut Eff: {0} %\".format(\n",
    "    np.sum(Photon_mask.content) /  len(Photon_mask.content) * 100\n",
    "    ))\n",
    "\n",
    "print(\" - Event Selection Eff: {0}%  | number of selected events: {1}\".format(\n",
    "    np.sum(Event_mask) /  len(Event_mask) * 100, np.sum(Event_mask)\n",
    "    ))"
   ]
  },
  {
   "cell_type": "markdown",
   "metadata": {},
   "source": [
    "---\n",
    "### 4. Event Selection - eee channel"
   ]
  },
  {
   "cell_type": "code",
   "execution_count": 13,
   "metadata": {},
   "outputs": [],
   "source": [
    "Ele_channel_events = events[Event_mask]"
   ]
  },
  {
   "cell_type": "code",
   "execution_count": 14,
   "metadata": {},
   "outputs": [],
   "source": [
    "Ele = Ele_channel_events.Electron\n",
    "Pho = Ele_channel_events.Photon\n",
    "Met = Ele_channel_events.MET"
   ]
  },
  {
   "cell_type": "code",
   "execution_count": 15,
   "metadata": {},
   "outputs": [
    {
     "name": "stdout",
     "output_type": "stream",
     "text": [
      "(372,)\n",
      "(372,)\n",
      "(372,)\n"
     ]
    }
   ],
   "source": [
    "print(Ele.shape)\n",
    "print(Pho.shape)\n",
    "print(Met.shape)"
   ]
  },
  {
   "cell_type": "markdown",
   "metadata": {},
   "source": [
    "### Choose OSSF\n",
    "\n",
    "1. Choose possible triplets    \n",
    "> Electron array:[[e1,e2,e3], [e4,e5,e6,e7]  ....]  \n",
    "Choose(3)  \n",
    "> [(e1,e2,e3), [(e4,e5,e6) (e4,e5,e7) (e5,e6,e7)]  ....]  \n",
    "\n",
    "2. Veto same sign triplet and events\n",
    "> [(), [(e4,e5,e6) (e4,e5,e7) (e5,e6,e7)]  ....]  \n",
    "> [[(e4,e5,e6) (e4,e5,e7) (e5,e6,e7)]  ....]  \n",
    "\n",
    "3. Select High-PT Triplet  \n",
    "> [[(e4,e5,e6)] [(e8,e9,e10)]  ....]  \n",
    "One triplet per one events  \n",
    "\n",
    "veto same sign triplet efficiency ( per events ) : 94.62%\n",
    "\n",
    "\n"
   ]
  },
  {
   "cell_type": "code",
   "execution_count": 16,
   "metadata": {},
   "outputs": [
    {
     "name": "stdout",
     "output_type": "stream",
     "text": [
      "Veto SS Eff: 94.62%\n"
     ]
    }
   ],
   "source": [
    "Tri_ele = Ele.choose(3)\n",
    "\n",
    "## ---Veto same sign set and events\n",
    "N_Before_ss_filter = Tri_ele.shape[0]\n",
    "Tri_SSVeto_Mask =  ~(( Tri_ele.i0.charge == Tri_ele.i1.charge ) == Tri_ele.i2.charge )\n",
    "Tri_ele = Tri_ele[Tri_SSVeto_Mask]\n",
    "\n",
    "Tri_SSVeto_evtMask = Tri_ele.counts > 0\n",
    "Tri_ele = Tri_ele[Tri_SSVeto_evtMask]\n",
    "MET_SSVeto = Met[Tri_SSVeto_evtMask]\n",
    "\n",
    "N_After_ss_filter = Tri_ele.shape[0]\n",
    "\n",
    "print(\"Veto SS Eff: {0}%\".format(round(N_After_ss_filter / N_Before_ss_filter * 100,2 )))\n",
    "\n",
    "## ---Select High-PT ordered set\n",
    "Tri_ele = Tri_ele[Tri_ele.i0.pt.argmax()]## Select 1 set of 3 leptons"
   ]
  },
  {
   "cell_type": "markdown",
   "metadata": {},
   "source": [
    "### Choose OSSF lepton pairs that meet Zmass window \n",
    "1. Select pair to caclulate invariant mass  \n",
    "[[(e4,e5,e6)] [(e8,e9,e10)] ....]\n",
    " - i0 = [(e4,e8)....]  \n",
    " - i1 = [(e5,e9)....]  \n",
    " - i2 = [(e6,e10)....]  \n",
    " - e1e2 = i0i1  \n",
    " - e1e3 = i0i2\n",
    " - e2e3 = i1i2  \n",
    " \n",
    "2. OSSF zmass check (veto offshell)\n",
    " - Opposite charge \n",
    " - |M(Z) - M(p1p2)] < 30 GeV  \n",
    " \n",
    "3. Exclude events that cannot meet the criteria of OSSF_zmass_check  \n",
    " - e1e2 Eff:  39%\n",
    " - e1e3 Eff:  55%\n",
    " - e2e3 Eff:  40%"
   ]
  },
  {
   "cell_type": "code",
   "execution_count": 17,
   "metadata": {},
   "outputs": [
    {
     "name": "stdout",
     "output_type": "stream",
     "text": [
      "e1e2 Eff:  38.92045454545455\n",
      "e1e3 Eff:  54.54545454545454\n",
      "e2e3 Eff:  40.340909090909086\n"
     ]
    }
   ],
   "source": [
    "#Tri_ele_list  = [list(x[0]) for x in Tri_ele]\n",
    "def ossf_zmass_check(p1,p2):\n",
    "    return ((p1.charge != p2.charge) & \n",
    "            (np.abs(91.18 - (p1 + p2).mass) < 30.))\n",
    "\n",
    "e1e2 = ossf_zmass_check(Tri_ele.i0,Tri_ele.i1)\n",
    "e1e3 = ossf_zmass_check(Tri_ele.i0,Tri_ele.i2)\n",
    "e2e3 = ossf_zmass_check(Tri_ele.i1,Tri_ele.i2)\n",
    "\n",
    "print(\"e1e2 Eff: \",Tri_ele[Tri_ele[e1e2].counts >0].shape[0] / Tri_ele.shape[0] * 100 )\n",
    "print(\"e1e3 Eff: \",Tri_ele[Tri_ele[e1e3].counts >0].shape[0] / Tri_ele.shape[0] * 100 )\n",
    "print(\"e2e3 Eff: \",Tri_ele[Tri_ele[e2e3].counts >0].shape[0] / Tri_ele.shape[0] * 100 )"
   ]
  },
  {
   "cell_type": "markdown",
   "metadata": {},
   "source": [
    "#### Calculate Z mas and  W MT"
   ]
  },
  {
   "cell_type": "code",
   "execution_count": 18,
   "metadata": {},
   "outputs": [],
   "source": [
    "Triplet = Tri_ele[Tri_ele[e1e3].counts >0]\n",
    "MET_OSSF = MET_SSVeto[Tri_ele[e1e3].counts>0]"
   ]
  },
  {
   "cell_type": "code",
   "execution_count": 19,
   "metadata": {},
   "outputs": [
    {
     "data": {
      "text/plain": [
       "(192,)"
      ]
     },
     "execution_count": 19,
     "metadata": {},
     "output_type": "execute_result"
    }
   ],
   "source": [
    "## -- Z mass \n",
    "Di_ele = Triplet.i0 + Triplet.i2\n",
    "Mee = Di_ele.mass.content\n",
    "Mee.shape"
   ]
  },
  {
   "cell_type": "code",
   "execution_count": 20,
   "metadata": {},
   "outputs": [
    {
     "data": {
      "text/plain": [
       "(192,)"
      ]
     },
     "execution_count": 20,
     "metadata": {},
     "output_type": "execute_result"
    }
   ],
   "source": [
    "## -- W MT\n",
    "\n",
    "# 1) Events that pass ossf_zmaas_check\n",
    "MET_T = TVector2Array.from_polar(MET_OSSF.pt, MET_OSSF.phi)\n",
    "ELE_T = TVector2Array.from_polar(Triplet.i1.pt, Triplet.i1.phi)\n",
    "mT =  np.sqrt( 2*Triplet.i1.pt.sum() * MET_OSSF.pt * ( 1 - np.cos(MET_T.delta_phi(ELE_T.sum()))))\n",
    "mT.shape\n",
    "\n",
    "# 2) Events that pass the same sign check \n",
    "#MET_T = TVector2Array.from_polar(MET_SSVeto.pt, MET_SSVeto.phi)\n",
    "#ELE_T = TVector2Array.from_polar(Tri_ele.i1.pt, Tri_ele.i1.phi)\n",
    "#mT_loose =  np.sqrt( 2*Tri_ele.i1.pt.sum() * MET_SSVeto.pt * ( 1 - np.cos(MET_T.delta_phi(ELE_T.sum()))))"
   ]
  },
  {
   "cell_type": "markdown",
   "metadata": {},
   "source": [
    "### Visualization"
   ]
  },
  {
   "cell_type": "code",
   "execution_count": 21,
   "metadata": {},
   "outputs": [],
   "source": [
    "import mplhep as hep\n",
    "import matplotlib.pyplot as plt"
   ]
  },
  {
   "cell_type": "code",
   "execution_count": 22,
   "metadata": {},
   "outputs": [
    {
     "data": {
      "text/plain": [
       "<matplotlib.legend.Legend at 0x7f111b00b4f0>"
      ]
     },
     "execution_count": 22,
     "metadata": {},
     "output_type": "execute_result"
    },
    {
     "name": "stderr",
     "output_type": "stream",
     "text": [
      "findfont: Font family ['cursive'] not found. Falling back to DejaVu Sans.\n"
     ]
    },
    {
     "data": {
      "image/png": "[encoded data removed]",
      "text/plain": [
       "<Figure size 504x504 with 1 Axes>"
      ]
     },
     "metadata": {
      "needs_background": "light"
     },
     "output_type": "display_data"
    }
   ],
   "source": [
    "plt.figure(figsize=(7, 7))\n",
    "plt.style.use(hep.style.CMS)\n",
    "plt.hist(Mee,bins=50,color='royalblue',alpha=0.7,label='ee channel')\n",
    "plt.xlim(0,200)\n",
    "plt.xlabel('M(ee) [GeV]',fontsize=25)\n",
    "plt.ylabel('Nuber of events',fontsize=25)\n",
    "plt.yscale('log')\n",
    "plt.legend()"
   ]
  },
  {
   "cell_type": "code",
   "execution_count": 24,
   "metadata": {},
   "outputs": [
    {
     "data": {
      "text/plain": [
       "<matplotlib.legend.Legend at 0x7f111abc3520>"
      ]
     },
     "execution_count": 24,
     "metadata": {},
     "output_type": "execute_result"
    },
    {
     "data": {
      "image/png": "[encoded data removed]",
      "text/plain": [
       "<Figure size 504x504 with 1 Axes>"
      ]
     },
     "metadata": {
      "needs_background": "light"
     },
     "output_type": "display_data"
    }
   ],
   "source": [
    "plt.close()\n",
    "plt.figure(figsize=(7, 7))\n",
    "plt.hist(mT,bins=50,color='royalblue',alpha=0.7,label='ee channel')\n",
    "plt.xlim(0,200)\n",
    "plt.xlabel('MT [GeV]',fontsize=25)\n",
    "plt.ylabel('Nuber of events',fontsize=25)\n",
    "plt.yscale('log')\n",
    "plt.legend()"
   ]
  },
  {
   "cell_type": "code",
   "execution_count": null,
   "metadata": {},
   "outputs": [],
   "source": [
    "## --- Not now ...\n",
    "#def delta_r(pair):\n",
    "#    return pair.i0.delta_r(pair.i1)\n",
    "\n",
    "#JselE_pair = Jet.cross(Sel_Electron,nested=True)\n",
    "#dr_JselE_mask = (delta_r(JselE_pair) > 0.3).any()\n",
    "\n",
    "#JselA_pair = Jet.cross(Sel_Photon,nested=True)\n",
    "#dr_JselA_mask = (delta_r(JselA_pair)>0.3).any()\n",
    "\n",
    "\n",
    "#Jet_mask = Jet_basic_mask & dr_JselE_mask & dr_JselA_mask"
   ]
  }
 ],
 "metadata": {
  "kernelspec": {
   "display_name": "Python 3",
   "language": "python",
   "name": "python3"
  },
  "language_info": {
   "codemirror_mode": {
    "name": "ipython",
    "version": 3
   },
   "file_extension": ".py",
   "mimetype": "text/x-python",
   "name": "python",
   "nbconvert_exporter": "python",
   "pygments_lexer": "ipython3",
   "version": "3.8.5"
  }
 },
 "nbformat": 4,
 "nbformat_minor": 4
}
