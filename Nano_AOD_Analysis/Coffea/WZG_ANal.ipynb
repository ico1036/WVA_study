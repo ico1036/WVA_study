{
 "cells": [
  {
   "cell_type": "code",
   "execution_count": 2,
   "metadata": {},
   "outputs": [],
   "source": [
    "import numpy as np\n",
    "import awkward as ak\n",
    "from coffea.nanoaod import NanoEvents\n",
    "from uproot_methods import TLorentzVectorArray\n",
    "import time\n",
    "from uproot_methods import TVector2Array"
   ]
  },
  {
   "cell_type": "code",
   "execution_count": 6,
   "metadata": {},
   "outputs": [
    {
     "name": "stdout",
     "output_type": "stream",
     "text": [
      "data/NanoAOD_files/scheme4_nano.root\n"
     ]
    }
   ],
   "source": [
    "!ls data/NanoAOD_files/scheme4_nano.root\n",
    "fname = \"data/NanoAOD_files/scheme4_nano.root\""
   ]
  },
  {
   "cell_type": "markdown",
   "metadata": {},
   "source": [
    "- Read event tree"
   ]
  },
  {
   "cell_type": "code",
   "execution_count": 7,
   "metadata": {},
   "outputs": [],
   "source": [
    "events = NanoEvents.from_file(fname)"
   ]
  },
  {
   "cell_type": "code",
   "execution_count": 8,
   "metadata": {},
   "outputs": [
    {
     "name": "stdout",
     "output_type": "stream",
     "text": [
      "Total 17150 number of events\n"
     ]
    }
   ],
   "source": [
    "print(\"Total {0} number of events\".format(len(events)))"
   ]
  },
  {
   "cell_type": "markdown",
   "metadata": {},
   "source": [
    " - Particle branch to array"
   ]
  },
  {
   "cell_type": "code",
   "execution_count": 9,
   "metadata": {},
   "outputs": [],
   "source": [
    "Electron = events.Electron\n",
    "Muon = events.Muon\n",
    "Photon = events.Photon\n",
    "MET = events.MET"
   ]
  },
  {
   "cell_type": "markdown",
   "metadata": {},
   "source": [
    " ### Particle Selection\n",
    " - MET > 20 GeV\n",
    " - PT$_{e,\\gamma}$ > 20 GeV,  |$\\eta_{l,\\gamma}$| < 2.5,\n",
    " - Electron cutbased_id > 1 ( Loose )\n",
    " - Photon cutbased_id > 0 ( Loose )"
   ]
  },
  {
   "cell_type": "markdown",
   "metadata": {},
   "source": [
    "#### How to apply cut in array-based method: Mask  \n",
    "arr1 = [1,1,2,1]  \n",
    "arr1_cut_mask = arr1 > 1  \n",
    "> [ False, False, True, False ]  \n",
    "  \n",
    "Sel_arr1 = arr1[arr1_cut_mask]  \n",
    "> [ 2 ]  "
   ]
  },
  {
   "cell_type": "code",
   "execution_count": 10,
   "metadata": {},
   "outputs": [],
   "source": [
    "def Particle_Selection(MET,Electron,Photon):\n",
    "    MET_mask = MET.pt > 20\n",
    "    Electron_mask = (Electron.pt >20) & (np.abs(Electron.eta) < 2.5) & (Electron.cutBased > 1) \n",
    "    #Photon_mask = (Photon.pt > 20 ) & (np.abs(Photon.eta) < 2.5)  & (Photon.genPartFlav == 1) & (Photon.cutBasedBitmap > 0)\n",
    "    \n",
    "    Photon_mask = (Photon.pt > 20 ) & (np.abs(Photon.eta) < 2.5)  & (Photon.cutBasedBitmap > 0)\n",
    "    return(MET_mask,Electron_mask,Photon_mask)"
   ]
  },
  {
   "cell_type": "code",
   "execution_count": 11,
   "metadata": {},
   "outputs": [],
   "source": [
    "MET_mask,Electron_mask,Photon_mask = Particle_Selection(MET,Electron,Photon)"
   ]
  },
  {
   "cell_type": "code",
   "execution_count": 12,
   "metadata": {},
   "outputs": [],
   "source": [
    "Ele_Sel_mask = Electron[Electron_mask].counts > 2\n",
    "Pho_Sel_mask = Photon[Photon_mask].counts > 0\n",
    "\n",
    "Event_mask = Ele_Sel_mask & Pho_Sel_mask "
   ]
  },
  {
   "cell_type": "code",
   "execution_count": 14,
   "metadata": {},
   "outputs": [
    {
     "name": "stdout",
     "output_type": "stream",
     "text": [
      " - Electron Cut Eff: 55.18212211859933 %\n",
      " - Photon Cut Eff: 62.57258490234031 %\n",
      " - Event Selection Eff: 2.1749271137026236%  | number of selected events: 373\n"
     ]
    }
   ],
   "source": [
    "print(\" - Electron Cut Eff: {0} %\".format(\n",
    "    np.sum(Electron_mask.content) /  len(Electron_mask.content) * 100\n",
    "    ))\n",
    "\n",
    "print(\" - Photon Cut Eff: {0} %\".format(\n",
    "    np.sum(Photon_mask.content) /  len(Photon_mask.content) * 100\n",
    "    ))\n",
    "\n",
    "print(\" - Event Selection Eff: {0}%  | number of selected events: {1}\".format(\n",
    "    np.sum(Event_mask) /  len(Event_mask) * 100, np.sum(Event_mask)\n",
    "    ))"
   ]
  },
  {
   "cell_type": "markdown",
   "metadata": {},
   "source": [
    "### Event Selection"
   ]
  },
  {
   "cell_type": "code",
   "execution_count": 15,
   "metadata": {},
   "outputs": [],
   "source": [
    "Ele_channel_events = events[Event_mask]"
   ]
  },
  {
   "cell_type": "code",
   "execution_count": 16,
   "metadata": {},
   "outputs": [],
   "source": [
    "Ele = Ele_channel_events.Electron\n",
    "Pho = Ele_channel_events.Photon"
   ]
  },
  {
   "cell_type": "code",
   "execution_count": 17,
   "metadata": {},
   "outputs": [
    {
     "data": {
      "text/plain": [
       "<ElectronArray [[<Electron 78> <Electron 79> <Electron 80>] [<Electron 151> <Electron 152> <Electron 153>] [<Electron 259> <Electron 260> <Electron 261>] ... [<Electron 22494> <Electron 22495> <Electron 22496> <Electron 22497>] [<Electron 22637> <Electron 22638> <Electron 22639> <Electron 22640> <Electron 22641>] [<Electron 22689> <Electron 22690> <Electron 22691> <Electron 22692>]] at 0x7f86d18c6b20>"
      ]
     },
     "execution_count": 17,
     "metadata": {},
     "output_type": "execute_result"
    }
   ],
   "source": [
    "Ele"
   ]
  },
  {
   "cell_type": "markdown",
   "metadata": {},
   "source": [
    " ### Choose different sign and highest-PT Electron pair\n",
    " - distincts() makes all possible particle pairs  \n",
    " - .i0 and .i1 choose each of paritlce pair\n",
    " - ele_pairs.i0+ele_pairs.i1 : Lorentz Sum"
   ]
  },
  {
   "cell_type": "code",
   "execution_count": 18,
   "metadata": {},
   "outputs": [],
   "source": [
    "# All possible pairs of Electron in each event\n",
    "ele_pairs = Ele.distincts()\n",
    "\n",
    "# TLorentz vector sum of ele_pairs\n",
    "diele = ele_pairs.i0+ele_pairs.i1\n",
    "\n",
    "# Choose different sign pair ( erase same-sign paris using cut mask)\n",
    "diffsign_diele =  diele[diele.charge==0]\n",
    "\n",
    "# choose maximum pt pairs ( choose maximum-PT Electron paris)\n",
    "leading_diffsign_diele = diffsign_diele[diffsign_diele.pt.argmax()]"
   ]
  },
  {
   "cell_type": "code",
   "execution_count": 21,
   "metadata": {},
   "outputs": [
    {
     "name": "stdout",
     "output_type": "stream",
     "text": [
      "[[(<Electron 78>, <Electron 79>) (<Electron 78>, <Electron 80>) (<Electron 79>, <Electron 80>)] [(<Electron 151>, <Electron 152>) (<Electron 151>, <Electron 153>) (<Electron 152>, <Electron 153>)] [(<Electron 259>, <Electron 260>) (<Electron 259>, <Electron 261>) (<Electron 260>, <Electron 261>)] ... [(<Electron 22494>, <Electron 22495>) (<Electron 22494>, <Electron 22496>) (<Electron 22494>, <Electron 22497>) (<Electron 22495>, <Electron 22496>) (<Electron 22495>, <Electron 22497>) (<Electron 22496>, <Electron 22497>)] [(<Electron 22637>, <Electron 22638>) (<Electron 22637>, <Electron 22639>) (<Electron 22637>, <Electron 22640>) ... (<Electron 22639>, <Electron 22640>) (<Electron 22639>, <Electron 22641>) (<Electron 22640>, <Electron 22641>)] [(<Electron 22689>, <Electron 22690>) (<Electron 22689>, <Electron 22691>) (<Electron 22689>, <Electron 22692>) (<Electron 22690>, <Electron 22691>) (<Electron 22690>, <Electron 22692>) (<Electron 22691>, <Electron 22692>)]]\n",
      " \n",
      "[[<Electron 78> <Electron 78> <Electron 79>] [<Electron 151> <Electron 151> <Electron 152>] [<Electron 259> <Electron 259> <Electron 260>] ... [<Electron 22494> <Electron 22494> <Electron 22494> <Electron 22495> <Electron 22495> <Electron 22496>] [<Electron 22637> <Electron 22637> <Electron 22637> ... <Electron 22639> <Electron 22639> <Electron 22640>] [<Electron 22689> <Electron 22689> <Electron 22689> <Electron 22690> <Electron 22690> <Electron 22691>]]\n",
      " \n",
      "[[<Electron 79> <Electron 80> <Electron 80>] [<Electron 152> <Electron 153> <Electron 153>] [<Electron 260> <Electron 261> <Electron 261>] ... [<Electron 22495> <Electron 22496> <Electron 22497> <Electron 22496> <Electron 22497> <Electron 22497>] [<Electron 22638> <Electron 22639> <Electron 22640> ... <Electron 22640> <Electron 22641> <Electron 22641>] [<Electron 22690> <Electron 22691> <Electron 22692> <Electron 22691> <Electron 22692> <Electron 22692>]]\n",
      " \n",
      "[[TLorentzVector(x=8.9971, y=-30.047, z=19.359, t=64.533) TLorentzVector(x=-5.6296, y=-42.204, z=22.548, t=62.47)] [TLorentzVector(x=60.931, y=-10.353, z=150.04, t=187.43) TLorentzVector(x=50.738, y=-52.596, z=121.22, t=161.19)] [TLorentzVector(x=-18.895, y=20.608, z=94.781, t=240.12) TLorentzVector(x=-46.73, y=-100.55, z=-114.28, t=183.73)] ... [TLorentzVector(x=97.456, y=-40.798, z=-211.48, t=252.63) TLorentzVector(x=61.284, y=-38.713, z=-263.88, t=293.08) TLorentzVector(x=-38.07, y=14.342, z=-265.25, t=290.54) TLorentzVector(x=-74.243, y=16.426, z=-317.65, t=330.99)] [TLorentzVector(x=-249.02, y=-16.959, z=-230.46, t=351.63) TLorentzVector(x=-171.8, y=5.5245, z=-216.03, t=339.03) TLorentzVector(x=-193.4, y=-17.748, z=-202.89, t=322.08) TLorentzVector(x=79.834, y=94.139, z=582.53, t=661.51) TLorentzVector(x=157.06, y=116.62, z=596.96, t=648.9) TLorentzVector(x=135.46, y=93.349, z=610.11, t=631.95)] [TLorentzVector(x=64.029, y=-46.884, z=-137.04, t=181.45) TLorentzVector(x=-53.519, y=11.504, z=-236.46, t=267.11) TLorentzVector(x=-5.6296, y=55.686, z=-116.2, t=143.01)]]\n"
     ]
    }
   ],
   "source": [
    "## For study\n",
    "print(ele_pairs)\n",
    "print(\" \")\n",
    "print(ele_pairs.i0)\n",
    "print(\" \")\n",
    "print(ele_pairs.i1)\n",
    "print(\" \")\n",
    "print(diffsign_diele)"
   ]
  },
  {
   "cell_type": "code",
   "execution_count": 22,
   "metadata": {},
   "outputs": [],
   "source": [
    "Mee = leading_diffsign_diele.mass.content ## contet -> Flatten array "
   ]
  },
  {
   "cell_type": "code",
   "execution_count": 99,
   "metadata": {},
   "outputs": [],
   "source": [
    "## --- Not now ...\n",
    "#def delta_r(pair):\n",
    "#    return pair.i0.delta_r(pair.i1)\n",
    "\n",
    "#JselE_pair = Jet.cross(Sel_Electron,nested=True)\n",
    "#dr_JselE_mask = (delta_r(JselE_pair) > 0.3).any()\n",
    "\n",
    "#JselA_pair = Jet.cross(Sel_Photon,nested=True)\n",
    "#dr_JselA_mask = (delta_r(JselA_pair)>0.3).any()\n",
    "\n",
    "\n",
    "#Jet_mask = Jet_basic_mask & dr_JselE_mask & dr_JselA_mask"
   ]
  },
  {
   "cell_type": "markdown",
   "metadata": {},
   "source": [
    "### Visualization"
   ]
  },
  {
   "cell_type": "code",
   "execution_count": 23,
   "metadata": {},
   "outputs": [],
   "source": [
    "import mplhep as hep\n",
    "import matplotlib.pyplot as plt"
   ]
  },
  {
   "cell_type": "code",
   "execution_count": 24,
   "metadata": {},
   "outputs": [
    {
     "data": {
      "text/plain": [
       "<matplotlib.legend.Legend at 0x7f86bf43c310>"
      ]
     },
     "execution_count": 24,
     "metadata": {},
     "output_type": "execute_result"
    },
    {
     "name": "stderr",
     "output_type": "stream",
     "text": [
      "findfont: Font family ['cursive'] not found. Falling back to DejaVu Sans.\n"
     ]
    },
    {
     "data": {
      "image/png": "[encoded data removed]",
      "text/plain": [
       "<Figure size 504x504 with 1 Axes>"
      ]
     },
     "metadata": {
      "needs_background": "light"
     },
     "output_type": "display_data"
    }
   ],
   "source": [
    "plt.figure(figsize=(7, 7))\n",
    "plt.style.use(hep.style.CMS)\n",
    "plt.hist(Mee,bins=50,color='royalblue',alpha=0.7,label='ee channel')\n",
    "plt.xlim(0,200)\n",
    "plt.xlabel('M(ee) [GeV]',fontsize=25)\n",
    "plt.ylabel('Nuber of events',fontsize=25)\n",
    "plt.yscale('log')\n",
    "plt.legend()"
   ]
  },
  {
   "cell_type": "code",
   "execution_count": null,
   "metadata": {},
   "outputs": [],
   "source": []
  }
 ],
 "metadata": {
  "kernelspec": {
   "display_name": "Python 3",
   "language": "python",
   "name": "python3"
  },
  "language_info": {
   "codemirror_mode": {
    "name": "ipython",
    "version": 3
   },
   "file_extension": ".py",
   "mimetype": "text/x-python",
   "name": "python",
   "nbconvert_exporter": "python",
   "pygments_lexer": "ipython3",
   "version": "3.8.5"
  }
 },
 "nbformat": 4,
 "nbformat_minor": 4
}
