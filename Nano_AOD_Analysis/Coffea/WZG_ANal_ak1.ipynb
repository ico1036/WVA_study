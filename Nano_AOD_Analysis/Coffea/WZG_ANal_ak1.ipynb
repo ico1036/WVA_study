{
  "nbformat": 4,
  "nbformat_minor": 0,
  "metadata": {
    "colab": {
      "name": "Test.ipynb",
      "provenance": [],
      "collapsed_sections": []
    },
    "kernelspec": {
      "name": "python3",
      "display_name": "Python 3"
    }
  },
  "cells": [
    {
      "cell_type": "code",
      "metadata": {
        "colab": {
          "base_uri": "https://localhost:8080/"
        },
        "id": "VoLK1DQXaJL_",
        "outputId": "2a935a20-c4b5-46bc-be51-cf6bc1bae648"
      },
      "source": [
        "from google.colab import drive\r\n",
        "drive.mount(\"/content/drive\")\r\n",
        "\r\n",
        "files = 'drive/MyDrive/Analysis Framework/scheme2_nano.root'"
      ],
      "execution_count": 1,
      "outputs": [
        {
          "output_type": "stream",
          "text": [
            "Mounted at /content/drive\n"
          ],
          "name": "stdout"
        }
      ]
    },
    {
      "cell_type": "code",
      "metadata": {
        "colab": {
          "base_uri": "https://localhost:8080/"
        },
        "id": "6CHiNguK7Dtt",
        "outputId": "a1a83257-cb4a-4ad9-a6de-bd737e4a9935"
      },
      "source": [
        "pip install coffea"
      ],
      "execution_count": 2,
      "outputs": [
        {
          "output_type": "stream",
          "text": [
            "Collecting coffea\n",
            "\u001b[?25l  Downloading https://files.pythonhosted.org/packages/c4/ae/8531bc2ea483e3d6ad65af4529b89888cb673f63f27e8b31d5ce6b690d55/coffea-0.6.50-py2.py3-none-any.whl (161kB)\n",
            "\u001b[K     |████████████████████████████████| 163kB 8.9MB/s \n",
            "\u001b[?25hCollecting pyarrow>=1.0.0\n",
            "\u001b[?25l  Downloading https://files.pythonhosted.org/packages/d7/e1/27958a70848f8f7089bff8d6ebe42519daf01f976d28b481e1bfd52c8097/pyarrow-2.0.0-cp36-cp36m-manylinux2014_x86_64.whl (17.7MB)\n",
            "\u001b[K     |████████████████████████████████| 17.7MB 1.3MB/s \n",
            "\u001b[?25hCollecting awkward1<1,>=0.4.3\n",
            "\u001b[?25l  Downloading https://files.pythonhosted.org/packages/9b/9c/add739f2121612324c3f7bb274720d865c507e2fce9854e8869c42db7c64/awkward1-0.4.5-cp36-cp36m-manylinux2010_x86_64.whl (6.2MB)\n",
            "\u001b[K     |████████████████████████████████| 6.2MB 29.1MB/s \n",
            "\u001b[?25hCollecting uproot4<1,>=0.0.17\n",
            "\u001b[?25l  Downloading https://files.pythonhosted.org/packages/d1/45/243a7ad118b8c782c2f468d170c33471d6dd9ca83eff18512eae6d349926/uproot4-0.1.2-py2.py3-none-any.whl (189kB)\n",
            "\u001b[K     |████████████████████████████████| 194kB 55.1MB/s \n",
            "\u001b[?25hCollecting lz4\n",
            "\u001b[?25l  Downloading https://files.pythonhosted.org/packages/e1/ec/c71fd8e86147c4215b8048aba0cb277f70ab558d3465c7ce2373338da329/lz4-3.1.2-cp36-cp36m-manylinux2010_x86_64.whl (1.8MB)\n",
            "\u001b[K     |████████████████████████████████| 1.8MB 56.9MB/s \n",
            "\u001b[?25hRequirement already satisfied: numpy>=1.16.0 in /usr/local/lib/python3.6/dist-packages (from coffea) (1.19.5)\n",
            "Collecting uproot-methods<=0.9,>=0.7.3\n",
            "  Downloading https://files.pythonhosted.org/packages/83/79/84cdf5ee65df04108eed8075256ed321dc586b3b3d742043c1985d5fbc77/uproot_methods-0.8.0-py2.py3-none-any.whl\n",
            "Collecting awkward<1,>=0.12.20\n",
            "\u001b[?25l  Downloading https://files.pythonhosted.org/packages/4b/ca/322dd25b102b03a0d8fefba037358a716e7ba2117b65839479071445a617/awkward-0.14.0-py2.py3-none-any.whl (87kB)\n",
            "\u001b[K     |████████████████████████████████| 92kB 7.4MB/s \n",
            "\u001b[?25hRequirement already satisfied: packaging in /usr/local/lib/python3.6/dist-packages (from coffea) (20.8)\n",
            "Collecting numba>=0.50.0\n",
            "\u001b[?25l  Downloading https://files.pythonhosted.org/packages/60/a5/a065e1e23a5ced6da6628bba7efec4de98f8970a59e034bb0639866631da/numba-0.52.0-cp36-cp36m-manylinux2014_x86_64.whl (3.1MB)\n",
            "\u001b[K     |████████████████████████████████| 3.2MB 33.7MB/s \n",
            "\u001b[?25hCollecting mplhep>=0.1.18\n",
            "\u001b[?25l  Downloading https://files.pythonhosted.org/packages/26/ed/7630678155ea92e97eb786f90dcee74af4ef00898ca84ce922ea3a53e459/mplhep-0.2.12-py3-none-any.whl (5.4MB)\n",
            "\u001b[K     |████████████████████████████████| 5.4MB 35.7MB/s \n",
            "\u001b[?25hRequirement already satisfied: ipywidgets in /usr/local/lib/python3.6/dist-packages (from coffea) (7.6.3)\n",
            "Collecting uproot<4,>=3.11.0\n",
            "\u001b[?25l  Downloading https://files.pythonhosted.org/packages/84/1b/f342da11e3a09a74d987032c55c79ab573f552c41db48135ed856a0dbda7/uproot-3.13.1-py3-none-any.whl (118kB)\n",
            "\u001b[K     |████████████████████████████████| 122kB 48.7MB/s \n",
            "\u001b[?25hRequirement already satisfied: matplotlib>=3 in /usr/local/lib/python3.6/dist-packages (from coffea) (3.2.2)\n",
            "Requirement already satisfied: scipy>=1.1.0 in /usr/local/lib/python3.6/dist-packages (from coffea) (1.4.1)\n",
            "Requirement already satisfied: cloudpickle>=1.2.3 in /usr/local/lib/python3.6/dist-packages (from coffea) (1.3.0)\n",
            "Requirement already satisfied: tqdm>=4.27.0 in /usr/local/lib/python3.6/dist-packages (from coffea) (4.41.1)\n",
            "Requirement already satisfied: pandas in /usr/local/lib/python3.6/dist-packages (from coffea) (1.1.5)\n",
            "Requirement already satisfied: pyparsing>=2.0.2 in /usr/local/lib/python3.6/dist-packages (from packaging->coffea) (2.4.7)\n",
            "Collecting llvmlite<0.36,>=0.35.0\n",
            "\u001b[?25l  Downloading https://files.pythonhosted.org/packages/9f/94/f05040ee3ec199c827a38426d78d0af9274c1e18ec9a592bb40954c952c8/llvmlite-0.35.0-cp36-cp36m-manylinux2010_x86_64.whl (25.3MB)\n",
            "\u001b[K     |████████████████████████████████| 25.3MB 55.7MB/s \n",
            "\u001b[?25hRequirement already satisfied: setuptools in /usr/local/lib/python3.6/dist-packages (from numba>=0.50.0->coffea) (51.1.1)\n",
            "Requirement already satisfied: requests~=2.21 in /usr/local/lib/python3.6/dist-packages (from mplhep>=0.1.18->coffea) (2.23.0)\n",
            "Requirement already satisfied: ipython>=4.0.0; python_version >= \"3.3\" in /usr/local/lib/python3.6/dist-packages (from ipywidgets->coffea) (5.5.0)\n",
            "Requirement already satisfied: traitlets>=4.3.1 in /usr/local/lib/python3.6/dist-packages (from ipywidgets->coffea) (4.3.3)\n",
            "Requirement already satisfied: widgetsnbextension~=3.5.0 in /usr/local/lib/python3.6/dist-packages (from ipywidgets->coffea) (3.5.1)\n",
            "Requirement already satisfied: nbformat>=4.2.0 in /usr/local/lib/python3.6/dist-packages (from ipywidgets->coffea) (5.0.8)\n",
            "Requirement already satisfied: ipykernel>=4.5.1 in /usr/local/lib/python3.6/dist-packages (from ipywidgets->coffea) (4.10.1)\n",
            "Requirement already satisfied: jupyterlab-widgets>=1.0.0; python_version >= \"3.6\" in /usr/local/lib/python3.6/dist-packages (from ipywidgets->coffea) (1.0.0)\n",
            "Requirement already satisfied: cachetools in /usr/local/lib/python3.6/dist-packages (from uproot<4,>=3.11.0->coffea) (4.2.0)\n",
            "Requirement already satisfied: python-dateutil>=2.1 in /usr/local/lib/python3.6/dist-packages (from matplotlib>=3->coffea) (2.8.1)\n",
            "Requirement already satisfied: cycler>=0.10 in /usr/local/lib/python3.6/dist-packages (from matplotlib>=3->coffea) (0.10.0)\n",
            "Requirement already satisfied: kiwisolver>=1.0.1 in /usr/local/lib/python3.6/dist-packages (from matplotlib>=3->coffea) (1.3.1)\n",
            "Requirement already satisfied: pytz>=2017.2 in /usr/local/lib/python3.6/dist-packages (from pandas->coffea) (2018.9)\n",
            "Requirement already satisfied: chardet<4,>=3.0.2 in /usr/local/lib/python3.6/dist-packages (from requests~=2.21->mplhep>=0.1.18->coffea) (3.0.4)\n",
            "Requirement already satisfied: idna<3,>=2.5 in /usr/local/lib/python3.6/dist-packages (from requests~=2.21->mplhep>=0.1.18->coffea) (2.10)\n",
            "Requirement already satisfied: certifi>=2017.4.17 in /usr/local/lib/python3.6/dist-packages (from requests~=2.21->mplhep>=0.1.18->coffea) (2020.12.5)\n",
            "Requirement already satisfied: urllib3!=1.25.0,!=1.25.1,<1.26,>=1.21.1 in /usr/local/lib/python3.6/dist-packages (from requests~=2.21->mplhep>=0.1.18->coffea) (1.24.3)\n",
            "Requirement already satisfied: decorator in /usr/local/lib/python3.6/dist-packages (from ipython>=4.0.0; python_version >= \"3.3\"->ipywidgets->coffea) (4.4.2)\n",
            "Requirement already satisfied: pygments in /usr/local/lib/python3.6/dist-packages (from ipython>=4.0.0; python_version >= \"3.3\"->ipywidgets->coffea) (2.6.1)\n",
            "Requirement already satisfied: simplegeneric>0.8 in /usr/local/lib/python3.6/dist-packages (from ipython>=4.0.0; python_version >= \"3.3\"->ipywidgets->coffea) (0.8.1)\n",
            "Requirement already satisfied: prompt-toolkit<2.0.0,>=1.0.4 in /usr/local/lib/python3.6/dist-packages (from ipython>=4.0.0; python_version >= \"3.3\"->ipywidgets->coffea) (1.0.18)\n",
            "Requirement already satisfied: pexpect; sys_platform != \"win32\" in /usr/local/lib/python3.6/dist-packages (from ipython>=4.0.0; python_version >= \"3.3\"->ipywidgets->coffea) (4.8.0)\n",
            "Requirement already satisfied: pickleshare in /usr/local/lib/python3.6/dist-packages (from ipython>=4.0.0; python_version >= \"3.3\"->ipywidgets->coffea) (0.7.5)\n",
            "Requirement already satisfied: ipython-genutils in /usr/local/lib/python3.6/dist-packages (from traitlets>=4.3.1->ipywidgets->coffea) (0.2.0)\n",
            "Requirement already satisfied: six in /usr/local/lib/python3.6/dist-packages (from traitlets>=4.3.1->ipywidgets->coffea) (1.15.0)\n",
            "Requirement already satisfied: notebook>=4.4.1 in /usr/local/lib/python3.6/dist-packages (from widgetsnbextension~=3.5.0->ipywidgets->coffea) (5.3.1)\n",
            "Requirement already satisfied: jupyter-core in /usr/local/lib/python3.6/dist-packages (from nbformat>=4.2.0->ipywidgets->coffea) (4.7.0)\n",
            "Requirement already satisfied: jsonschema!=2.5.0,>=2.4 in /usr/local/lib/python3.6/dist-packages (from nbformat>=4.2.0->ipywidgets->coffea) (2.6.0)\n",
            "Requirement already satisfied: tornado>=4.0 in /usr/local/lib/python3.6/dist-packages (from ipykernel>=4.5.1->ipywidgets->coffea) (5.1.1)\n",
            "Requirement already satisfied: jupyter-client in /usr/local/lib/python3.6/dist-packages (from ipykernel>=4.5.1->ipywidgets->coffea) (5.3.5)\n",
            "Requirement already satisfied: wcwidth in /usr/local/lib/python3.6/dist-packages (from prompt-toolkit<2.0.0,>=1.0.4->ipython>=4.0.0; python_version >= \"3.3\"->ipywidgets->coffea) (0.2.5)\n",
            "Requirement already satisfied: ptyprocess>=0.5 in /usr/local/lib/python3.6/dist-packages (from pexpect; sys_platform != \"win32\"->ipython>=4.0.0; python_version >= \"3.3\"->ipywidgets->coffea) (0.7.0)\n",
            "Requirement already satisfied: Send2Trash in /usr/local/lib/python3.6/dist-packages (from notebook>=4.4.1->widgetsnbextension~=3.5.0->ipywidgets->coffea) (1.5.0)\n",
            "Requirement already satisfied: jinja2 in /usr/local/lib/python3.6/dist-packages (from notebook>=4.4.1->widgetsnbextension~=3.5.0->ipywidgets->coffea) (2.11.2)\n",
            "Requirement already satisfied: nbconvert in /usr/local/lib/python3.6/dist-packages (from notebook>=4.4.1->widgetsnbextension~=3.5.0->ipywidgets->coffea) (5.6.1)\n",
            "Requirement already satisfied: terminado>=0.8.1 in /usr/local/lib/python3.6/dist-packages (from notebook>=4.4.1->widgetsnbextension~=3.5.0->ipywidgets->coffea) (0.9.2)\n",
            "Requirement already satisfied: pyzmq>=13 in /usr/local/lib/python3.6/dist-packages (from jupyter-client->ipykernel>=4.5.1->ipywidgets->coffea) (20.0.0)\n",
            "Requirement already satisfied: MarkupSafe>=0.23 in /usr/local/lib/python3.6/dist-packages (from jinja2->notebook>=4.4.1->widgetsnbextension~=3.5.0->ipywidgets->coffea) (1.1.1)\n",
            "Requirement already satisfied: testpath in /usr/local/lib/python3.6/dist-packages (from nbconvert->notebook>=4.4.1->widgetsnbextension~=3.5.0->ipywidgets->coffea) (0.4.4)\n",
            "Requirement already satisfied: defusedxml in /usr/local/lib/python3.6/dist-packages (from nbconvert->notebook>=4.4.1->widgetsnbextension~=3.5.0->ipywidgets->coffea) (0.6.0)\n",
            "Requirement already satisfied: entrypoints>=0.2.2 in /usr/local/lib/python3.6/dist-packages (from nbconvert->notebook>=4.4.1->widgetsnbextension~=3.5.0->ipywidgets->coffea) (0.3)\n",
            "Requirement already satisfied: mistune<2,>=0.8.1 in /usr/local/lib/python3.6/dist-packages (from nbconvert->notebook>=4.4.1->widgetsnbextension~=3.5.0->ipywidgets->coffea) (0.8.4)\n",
            "Requirement already satisfied: bleach in /usr/local/lib/python3.6/dist-packages (from nbconvert->notebook>=4.4.1->widgetsnbextension~=3.5.0->ipywidgets->coffea) (3.2.1)\n",
            "Requirement already satisfied: pandocfilters>=1.4.1 in /usr/local/lib/python3.6/dist-packages (from nbconvert->notebook>=4.4.1->widgetsnbextension~=3.5.0->ipywidgets->coffea) (1.4.3)\n",
            "Requirement already satisfied: webencodings in /usr/local/lib/python3.6/dist-packages (from bleach->nbconvert->notebook>=4.4.1->widgetsnbextension~=3.5.0->ipywidgets->coffea) (0.5.1)\n",
            "Installing collected packages: pyarrow, awkward1, uproot4, lz4, awkward, uproot-methods, llvmlite, numba, mplhep, uproot, coffea\n",
            "  Found existing installation: pyarrow 0.14.1\n",
            "    Uninstalling pyarrow-0.14.1:\n",
            "      Successfully uninstalled pyarrow-0.14.1\n",
            "  Found existing installation: llvmlite 0.31.0\n",
            "    Uninstalling llvmlite-0.31.0:\n",
            "      Successfully uninstalled llvmlite-0.31.0\n",
            "  Found existing installation: numba 0.48.0\n",
            "    Uninstalling numba-0.48.0:\n",
            "      Successfully uninstalled numba-0.48.0\n",
            "Successfully installed awkward-0.14.0 awkward1-0.4.5 coffea-0.6.50 llvmlite-0.35.0 lz4-3.1.2 mplhep-0.2.12 numba-0.52.0 pyarrow-2.0.0 uproot-3.13.1 uproot-methods-0.8.0 uproot4-0.1.2\n"
          ],
          "name": "stdout"
        }
      ]
    },
    {
      "cell_type": "code",
      "metadata": {
        "id": "Wi_SjpYqaF89"
      },
      "source": [
        "import numpy as np\r\n",
        "import awkward1 as ak\r\n",
        "from coffea.nanoevents import NanoEventsFactory, NanoAODSchema\r\n",
        "from coffea import processor, hist\r\n",
        "import matplotlib.pyplot as plt"
      ],
      "execution_count": 3,
      "outputs": []
    },
    {
      "cell_type": "code",
      "metadata": {
        "id": "dLq-vpJvaH0X",
        "colab": {
          "base_uri": "https://localhost:8080/"
        },
        "outputId": "0ddc4a07-8b48-49d6-db6f-0e7ef3cbcd56"
      },
      "source": [
        "fname = 'drive/MyDrive/Analysis Framework/scheme2_nano.root'\r\n",
        "events = NanoEventsFactory.from_file(fname, schemaclass=NanoAODSchema).events()"
      ],
      "execution_count": 4,
      "outputs": [
        {
          "output_type": "stream",
          "text": [
            "/usr/local/lib/python3.6/dist-packages/coffea/nanoevents/factory.py:87: UserWarning: DEPRECATION NOTICE:\n",
            "NanoEventsFactory.from_file is deprecated, please migrate your code to use NanoEventsFactory.from_root.\n",
            "Using NanoEventsFactory.from_file will result in an error in the next major release of coffea.\n",
            "  \"DEPRECATION NOTICE:\\nNanoEventsFactory.from_file is deprecated, please\"\n"
          ],
          "name": "stderr"
        }
      ]
    },
    {
      "cell_type": "code",
      "metadata": {
        "id": "k0rcTwS4RO0k",
        "colab": {
          "base_uri": "https://localhost:8080/"
        },
        "outputId": "8e109363-445b-4e05-8bfb-d3cf435e1c3a"
      },
      "source": [
        "events.fields"
      ],
      "execution_count": null,
      "outputs": [
        {
          "output_type": "execute_result",
          "data": {
            "text/plain": [
              "['SoftActivityJetHT10',\n",
              " 'fixedGridRhoFastjetAll',\n",
              " 'SubGenJetAK8',\n",
              " 'TkMET',\n",
              " 'SoftActivityJetHT5',\n",
              " 'CaloMET',\n",
              " 'PSWeight',\n",
              " 'TrigObj',\n",
              " 'L1simulation',\n",
              " 'LHE',\n",
              " 'LHEWeight',\n",
              " 'LHEScaleWeight',\n",
              " 'MET',\n",
              " 'PV',\n",
              " 'btagWeight',\n",
              " 'IsoTrack',\n",
              " 'Photon',\n",
              " 'SubJet',\n",
              " 'SV',\n",
              " 'SoftActivityJet',\n",
              " 'SoftActivityJetNjets5',\n",
              " 'HLTriggerFinalPath',\n",
              " 'Flag',\n",
              " 'GenVisTau',\n",
              " 'LHEPart',\n",
              " 'HLTriggerFirstPath',\n",
              " 'fixedGridRhoFastjetCentralCalo',\n",
              " 'SoftActivityJetHT',\n",
              " 'GenJetAK8',\n",
              " 'Electron',\n",
              " 'SoftActivityJetHT2',\n",
              " 'GenJet',\n",
              " 'GenDressedLepton',\n",
              " 'Jet',\n",
              " 'Muon',\n",
              " 'Pileup',\n",
              " 'FatJet',\n",
              " 'RawMET',\n",
              " 'genWeight',\n",
              " 'OtherPV',\n",
              " 'Generator',\n",
              " 'genTtbarId',\n",
              " 'PuppiMET',\n",
              " 'HLT',\n",
              " 'fixedGridRhoFastjetCentralNeutral',\n",
              " 'L1Reco',\n",
              " 'LHEPdfWeight',\n",
              " 'GenMET',\n",
              " 'SoftActivityJetNjets2',\n",
              " 'event',\n",
              " 'luminosityBlock',\n",
              " 'run',\n",
              " 'Tau',\n",
              " 'GenPart',\n",
              " 'SoftActivityJetNjets10']"
            ]
          },
          "metadata": {
            "tags": []
          },
          "execution_count": 5
        }
      ]
    },
    {
      "cell_type": "code",
      "metadata": {
        "colab": {
          "base_uri": "https://localhost:8080/"
        },
        "id": "G_SYEYYUS4yl",
        "outputId": "06e407a8-160a-42ce-be97-b294b641cb61"
      },
      "source": [
        "events.Electron"
      ],
      "execution_count": null,
      "outputs": [
        {
          "output_type": "execute_result",
          "data": {
            "text/plain": [
              "<ElectronArray [[Electron, Electron], ... [Electron]] type='8200 * var * electron'>"
            ]
          },
          "metadata": {
            "tags": []
          },
          "execution_count": 7
        }
      ]
    },
    {
      "cell_type": "code",
      "metadata": {
        "colab": {
          "base_uri": "https://localhost:8080/"
        },
        "id": "ZYcMd6UXS_51",
        "outputId": "c7ee5f06-865d-44ca-af28-1f858cb40a38"
      },
      "source": [
        "events.Electron.fields"
      ],
      "execution_count": null,
      "outputs": [
        {
          "output_type": "execute_result",
          "data": {
            "text/plain": [
              "['charge',\n",
              " 'cleanmask',\n",
              " 'convVeto',\n",
              " 'cutBased',\n",
              " 'cutBased_Fall17_V1',\n",
              " 'cutBased_HEEP',\n",
              " 'deltaEtaSC',\n",
              " 'dr03EcalRecHitSumEt',\n",
              " 'dr03HcalDepth1TowerSumEt',\n",
              " 'dr03TkSumPt',\n",
              " 'dxy',\n",
              " 'dxyErr',\n",
              " 'dz',\n",
              " 'dzErr',\n",
              " 'eInvMinusPInv',\n",
              " 'energyErr',\n",
              " 'eta',\n",
              " 'genPartFlav',\n",
              " 'genPartIdx',\n",
              " 'genPartIdxG',\n",
              " 'hoe',\n",
              " 'ip3d',\n",
              " 'isPFcand',\n",
              " 'jetIdx',\n",
              " 'jetIdxG',\n",
              " 'lostHits',\n",
              " 'mass',\n",
              " 'miniPFRelIso_all',\n",
              " 'miniPFRelIso_chg',\n",
              " 'mvaFall17V1Iso',\n",
              " 'mvaFall17V1Iso_WP80',\n",
              " 'mvaFall17V1Iso_WP90',\n",
              " 'mvaFall17V1Iso_WPL',\n",
              " 'mvaFall17V1noIso',\n",
              " 'mvaFall17V1noIso_WP80',\n",
              " 'mvaFall17V1noIso_WP90',\n",
              " 'mvaFall17V1noIso_WPL',\n",
              " 'mvaFall17V2Iso',\n",
              " 'mvaFall17V2Iso_WP80',\n",
              " 'mvaFall17V2Iso_WP90',\n",
              " 'mvaFall17V2Iso_WPL',\n",
              " 'mvaFall17V2noIso',\n",
              " 'mvaFall17V2noIso_WP80',\n",
              " 'mvaFall17V2noIso_WP90',\n",
              " 'mvaFall17V2noIso_WPL',\n",
              " 'mvaTTH',\n",
              " 'pdgId',\n",
              " 'pfRelIso03_all',\n",
              " 'pfRelIso03_chg',\n",
              " 'phi',\n",
              " 'photonIdx',\n",
              " 'photonIdxG',\n",
              " 'pt',\n",
              " 'r9',\n",
              " 'sieie',\n",
              " 'sip3d',\n",
              " 'tightCharge',\n",
              " 'vidNestedWPBitmap']"
            ]
          },
          "metadata": {
            "tags": []
          },
          "execution_count": 8
        }
      ]
    },
    {
      "cell_type": "markdown",
      "metadata": {
        "id": "56NLkLDqTG_-"
      },
      "source": [
        "# Particle selection"
      ]
    },
    {
      "cell_type": "code",
      "metadata": {
        "id": "qpgeco0WTNkV"
      },
      "source": [
        "Electron = events.Electron\r\n",
        "Muon = events.Muon\r\n",
        "Photon = events.Photon\r\n",
        "MET = events.MET"
      ],
      "execution_count": null,
      "outputs": []
    },
    {
      "cell_type": "code",
      "metadata": {
        "id": "UHu3vJoCTZQM"
      },
      "source": [
        "MET_mask = MET.pt > 20\r\n",
        "Electron_mask = (Electron.pt > 20) & (np.abs(Electron.eta) < 2.5) & (Electron.cutBased > 1)\r\n",
        "Photon_mask = (Photon.pt > 20) & (np.abs(Photon.eta) < 2.5) & (Photon.cutBasedBitmap > 0)"
      ],
      "execution_count": null,
      "outputs": []
    },
    {
      "cell_type": "code",
      "metadata": {
        "id": "bIEOjsT4T4Y8"
      },
      "source": [
        "Ele_Sel_mask = ak.num(Electron[Electron_mask]) > 2\r\n",
        "Pho_Sel_mask = ak.num(Photon[Photon_mask]) > 0\r\n",
        "\r\n",
        "Event_mask = Ele_Sel_mask & Pho_Sel_mask"
      ],
      "execution_count": null,
      "outputs": []
    },
    {
      "cell_type": "markdown",
      "metadata": {
        "id": "WZtAQtn_UWGb"
      },
      "source": [
        "# Event Selection - eee chanel"
      ]
    },
    {
      "cell_type": "code",
      "metadata": {
        "id": "OQ99ruigUanv"
      },
      "source": [
        "Ele_channel_events = events[Event_mask]\r\n",
        "\r\n",
        "Ele = Ele_channel_events.Electron\r\n",
        "Pho = Ele_channel_events.Photon\r\n",
        "Met = Ele_channel_events.MET"
      ],
      "execution_count": null,
      "outputs": []
    },
    {
      "cell_type": "code",
      "metadata": {
        "colab": {
          "base_uri": "https://localhost:8080/"
        },
        "id": "n4wYYaXqUmK2",
        "outputId": "c0c52149-1ed4-48a5-96bd-0d55cf26854d"
      },
      "source": [
        "print(ak.Array.__len__(Ele))\r\n",
        "print(ak.Array.__len__(Pho))\r\n",
        "print(ak.Array.__len__(Met))"
      ],
      "execution_count": null,
      "outputs": [
        {
          "output_type": "stream",
          "text": [
            "167\n",
            "167\n",
            "167\n"
          ],
          "name": "stdout"
        }
      ]
    },
    {
      "cell_type": "code",
      "metadata": {
        "id": "01ep8PBsUpfl"
      },
      "source": [
        "# All possible triplet of Electron in each event\r\n",
        "ele_tri = ak.combinations(Ele, 3, axis=1)"
      ],
      "execution_count": null,
      "outputs": []
    },
    {
      "cell_type": "code",
      "metadata": {
        "colab": {
          "base_uri": "https://localhost:8080/"
        },
        "id": "UWsUNvY_VE31",
        "outputId": "cea8f054-0a58-47e8-b0a7-0d5887c14c36"
      },
      "source": [
        "# Choose OSSF \r\n",
        "Tri_first, Tri_second, Tri_third = ak.unzip(ele_tri)\r\n",
        "Tri_ele = Tri_first + Tri_second + Tri_third\r\n",
        "\r\n",
        "print(Tri_ele)"
      ],
      "execution_count": null,
      "outputs": [
        {
          "output_type": "stream",
          "text": [
            "[[{x: -5.58, y: 36.6, z: 162, t: 191, charge: 1}, ... z: 530, t: 799, charge: 1}]]\n"
          ],
          "name": "stdout"
        }
      ]
    },
    {
      "cell_type": "code",
      "metadata": {
        "id": "CxNYn6OEVVXl"
      },
      "source": [
        "# Veto same sign set and events\r\n",
        "N_Before_ss_filter = ak.Array.__len__(Tri_ele)\r\n",
        "Tri_SSVeto_Mask = ((Tri_first.charge == Tri_second.charge) == Tri_third.charge)\r\n",
        "Tri_ele = Tri_ele[Tri_SSVeto_Mask]\r\n",
        "\r\n",
        "Tri_SSVeto_evtMask = ak.num(Tri_ele) > 0\r\n",
        "Tri_ele = Tri_ele[Tri_SSVeto_evtMask]\r\n",
        "MET_SSVeto = Met[Tri_SSVeto_evtMask]"
      ],
      "execution_count": null,
      "outputs": []
    },
    {
      "cell_type": "code",
      "metadata": {
        "id": "0XrYBXJ_VgDU"
      },
      "source": [
        "N_After_ss_filter = ak.Array.__len__(Tri_ele)"
      ],
      "execution_count": null,
      "outputs": []
    },
    {
      "cell_type": "code",
      "metadata": {
        "colab": {
          "base_uri": "https://localhost:8080/"
        },
        "id": "hefayFfWXTVk",
        "outputId": "d78909e6-b006-456d-c16b-ec38c2da987a"
      },
      "source": [
        "print(Tri_ele)\r\n",
        "print(\"Veto SS Eff: {0}%\".format(round(N_After_ss_filter / N_Before_ss_filter * 100,2)))"
      ],
      "execution_count": null,
      "outputs": [
        {
          "output_type": "stream",
          "text": [
            "[[{x: 9.97, y: -145, z: 802, t: 1.07e+03, charge: -1, ... t: 361, charge: 3}]]\n",
            "Veto SS Eff: 22.16%\n"
          ],
          "name": "stdout"
        }
      ]
    },
    {
      "cell_type": "code",
      "metadata": {
        "id": "K2lXO2-sXdil"
      },
      "source": [
        "# Choose OSSF lepton pairs that meet Z mass window\r\n",
        "def ossf_zmass_check(p1, p2):\r\n",
        "  return ((p1.charge != p2.charge) & (np.abs(91.18 - (p1 + p2).mass) < 30.))\r\n",
        "\r\n",
        "e1e2 = ossf_zmass_check(Tri_first, Tri_second)\r\n",
        "e1e3 = ossf_zmass_check(Tri_first, Tri_third)\r\n",
        "e2e3 = ossf_zmass_check(Tri_second, Tri_third)"
      ],
      "execution_count": null,
      "outputs": []
    },
    {
      "cell_type": "code",
      "metadata": {
        "id": "TLeFBDITYX84"
      },
      "source": [
        "# Calculate Z mass and W MT\r\n",
        "Triplet = Tri_ele[ak.num(Tri_ele[e1e3]) > 0]\r\n",
        "#MET_OSSF = MET_SSVeto[ak.num(Tri_ele[e1e3]) > 0]"
      ],
      "execution_count": null,
      "outputs": []
    },
    {
      "cell_type": "code",
      "metadata": {
        "id": "WF5UAa4QcTqx"
      },
      "source": [
        "# Select High-PT ordered set\r\n",
        "Triplet = Triplet[ak.argmax(Tri_first.pt, axis=1)]"
      ],
      "execution_count": null,
      "outputs": []
    },
    {
      "cell_type": "code",
      "metadata": {
        "colab": {
          "base_uri": "https://localhost:8080/"
        },
        "id": "aHUlrw_VYxKV",
        "outputId": "b711181b-560e-4d7c-90cc-d9fdc69f55d2"
      },
      "source": [
        "print(Triplet)"
      ],
      "execution_count": null,
      "outputs": [
        {
          "output_type": "stream",
          "text": [
            "[[{x: 9.97, y: -145, z: 802, t: 1.07e+03, ... t: 1.07e+03, charge: -1}]]\n"
          ],
          "name": "stdout"
        }
      ]
    },
    {
      "cell_type": "code",
      "metadata": {
        "id": "SGgOBhQlfQhr"
      },
      "source": [
        "# Z mass\r\n",
        "# Di_ele = Triplet.i0 + Triplet.i2\r\n",
        "# Mee = ak.to_numpy(Triplet.mass)\r\n",
        "# Mee = Mee.flatten()"
      ],
      "execution_count": null,
      "outputs": []
    },
    {
      "cell_type": "code",
      "metadata": {
        "id": "Zekm202wcuN-"
      },
      "source": [
        ""
      ],
      "execution_count": null,
      "outputs": []
    },
    {
      "cell_type": "markdown",
      "metadata": {
        "id": "szbVLP3jWoMi"
      },
      "source": [
        "# 테스트 공간!!!!!!!!!!!!! 더블 배럴 준비 완료\r\n"
      ]
    },
    {
      "cell_type": "code",
      "metadata": {
        "id": "KAm8J-XRdKiV"
      },
      "source": [
        "Electron = events.Electron\r\n",
        "Muon = events.Muon\r\n",
        "Photon = events.Photon\r\n",
        "MET = events.MET"
      ],
      "execution_count": 210,
      "outputs": []
    },
    {
      "cell_type": "code",
      "metadata": {
        "colab": {
          "base_uri": "https://localhost:8080/"
        },
        "id": "dS6sCHyUiXpG",
        "outputId": "1c9a6366-6fa8-4ef2-8eb5-49e50508afb7"
      },
      "source": [
        "print(Electron)\r\n",
        "print(Muon)\r\n",
        "print(Photon)\r\n",
        "print(MET)"
      ],
      "execution_count": 211,
      "outputs": [
        {
          "output_type": "stream",
          "text": [
            "[[Electron, Electron], [], [Electron], ... [Electron, Electron], [Electron]]\n",
            "[[], [Muon, Muon], [Muon, Muon, Muon], ... Muon, Muon, Muon], [Muon], [Muon, Muon]]\n",
            "[[Photon, Photon, Photon, Photon], [Photon, ... Photon, Photon], [Photon, Photon]]\n",
            "[MissingET, MissingET, MissingET, MissingET, ... MissingET, MissingET, MissingET]\n"
          ],
          "name": "stdout"
        }
      ]
    },
    {
      "cell_type": "code",
      "metadata": {
        "id": "yXzVurAke1Lu"
      },
      "source": [
        "def Particle_Selection(MET, Electron, Photon):\r\n",
        "  MET_mask = MET.pt > 20\r\n",
        "  Electron_mask = (Electron.pt > 20) & (np.abs(Electron.eta) < 2.5) & (Electron.cutBased > 1)\r\n",
        "  Photon_mask = (Photon.pt > 20) & (np.abs(Photon.eta) < 2.5) & (Photon.cutBasedBitmap > 0)\r\n",
        "  return(MET_mask, Electron_mask, Photon_mask)"
      ],
      "execution_count": 212,
      "outputs": []
    },
    {
      "cell_type": "code",
      "metadata": {
        "id": "b4rU80d7jNW3"
      },
      "source": [
        "MET_mask, Electron_mask, Photon_mask = Particle_Selection(MET, Electron, Photon)"
      ],
      "execution_count": 213,
      "outputs": []
    },
    {
      "cell_type": "code",
      "metadata": {
        "colab": {
          "base_uri": "https://localhost:8080/"
        },
        "id": "2mRdb5mrjZwS",
        "outputId": "a710b8fc-3d4f-4c31-b7ff-de7a5e6b94b2"
      },
      "source": [
        "print(MET_mask)\r\n",
        "print(Electron_mask)\r\n",
        "print(Photon_mask)"
      ],
      "execution_count": 214,
      "outputs": [
        {
          "output_type": "stream",
          "text": [
            "[True, True, True, True, True, True, True, ... True, True, True, True, True, True]\n",
            "[[False, False], [], [True], [], [True, ... False], [False], [True, True], [False]]\n",
            "[[False, False, False, False], [False, False, ... True, True, False], [False, False]]\n"
          ],
          "name": "stdout"
        }
      ]
    },
    {
      "cell_type": "code",
      "metadata": {
        "id": "h7aI3KeSW4pH"
      },
      "source": [
        "Ele_Sel_mask = ak.num(Electron[Electron_mask]) > 2\r\n",
        "Pho_Sel_mask = ak.num(Photon[Photon_mask]) > 0\r\n",
        "\r\n",
        "Event_mask = Ele_Sel_mask & Pho_Sel_mask"
      ],
      "execution_count": 215,
      "outputs": []
    },
    {
      "cell_type": "code",
      "metadata": {
        "colab": {
          "base_uri": "https://localhost:8080/"
        },
        "id": "IgA_WUH7jt-6",
        "outputId": "3061d9f3-44dd-406f-d6b5-76963b2e78bf"
      },
      "source": [
        "print(Ele_Sel_mask)\r\n",
        "print(Pho_Sel_mask)\r\n",
        "print(Event_mask)"
      ],
      "execution_count": 216,
      "outputs": [
        {
          "output_type": "stream",
          "text": [
            "[False, False, False, False, False, False, ... False, False, False, False, False]\n",
            "[False, False, True, True, True, False, ... True, True, False, True, True, False]\n",
            "[False, False, False, False, False, False, ... False, False, False, False, False]\n"
          ],
          "name": "stdout"
        }
      ]
    },
    {
      "cell_type": "code",
      "metadata": {
        "colab": {
          "base_uri": "https://localhost:8080/"
        },
        "id": "ZPANsTCBkDjf",
        "outputId": "3e15c184-597d-49e0-df5d-b24119d7e845"
      },
      "source": [
        "print(\" - Event Selection Eff: {0}% | number of selected events: {1}\".format(\r\n",
        "    np.sum(Event_mask) / len(Event_mask) * 100, np.sum(Event_mask)\r\n",
        "))"
      ],
      "execution_count": 217,
      "outputs": [
        {
          "output_type": "stream",
          "text": [
            " - Event Selection Eff: 2.0365853658536586% | number of selected events: 167\n"
          ],
          "name": "stdout"
        }
      ]
    },
    {
      "cell_type": "code",
      "metadata": {
        "id": "tCLWEi8RW6hJ"
      },
      "source": [
        "Ele_channel_events = events[Event_mask]"
      ],
      "execution_count": 218,
      "outputs": []
    },
    {
      "cell_type": "code",
      "metadata": {
        "colab": {
          "base_uri": "https://localhost:8080/"
        },
        "id": "1EODMRFxkh1Z",
        "outputId": "08bed5ca-c8cd-42ff-cc54-59160d575b0f"
      },
      "source": [
        "print(Ele_channel_events)"
      ],
      "execution_count": 219,
      "outputs": [
        {
          "output_type": "stream",
          "text": [
            "[<event 37:1:9007>, <event 37:1:9017>, ... <event 37:1:3058>, <event 37:1:3078>]\n"
          ],
          "name": "stdout"
        }
      ]
    },
    {
      "cell_type": "code",
      "metadata": {
        "id": "Y2YPisgkkhG8"
      },
      "source": [
        "Ele = Ele_channel_events.Electron\r\n",
        "Pho = Ele_channel_events.Photon\r\n",
        "Met = Ele_channel_events.MET"
      ],
      "execution_count": 220,
      "outputs": []
    },
    {
      "cell_type": "code",
      "metadata": {
        "colab": {
          "base_uri": "https://localhost:8080/"
        },
        "id": "maVmvDfjkqoj",
        "outputId": "fc582a67-78f7-4f7e-f3ef-effcbe00fc1a"
      },
      "source": [
        "print(Ele)\r\n",
        "print(Pho)\r\n",
        "print(Met)"
      ],
      "execution_count": 221,
      "outputs": [
        {
          "output_type": "stream",
          "text": [
            "[[Electron, Electron, Electron, Electron], ... [Electron, Electron, Electron]]\n",
            "[[Photon, Photon, Photon, Photon, Photon, ... Photon, Photon, Photon, Photon]]\n",
            "[MissingET, MissingET, MissingET, MissingET, ... MissingET, MissingET, MissingET]\n"
          ],
          "name": "stdout"
        }
      ]
    },
    {
      "cell_type": "code",
      "metadata": {
        "colab": {
          "base_uri": "https://localhost:8080/"
        },
        "id": "DnCGSoyykt_8",
        "outputId": "19481ec5-d82e-41b8-a105-9eccc5386e5d"
      },
      "source": [
        "print(len(Ele))\r\n",
        "print(len(Pho))\r\n",
        "print(len(Met))"
      ],
      "execution_count": 222,
      "outputs": [
        {
          "output_type": "stream",
          "text": [
            "167\n",
            "167\n",
            "167\n"
          ],
          "name": "stdout"
        }
      ]
    },
    {
      "cell_type": "code",
      "metadata": {
        "id": "cSHy3UYXW6bo"
      },
      "source": [
        "Tri_ele = ak.combinations(Ele, 3, axis=1)"
      ],
      "execution_count": 223,
      "outputs": []
    },
    {
      "cell_type": "code",
      "metadata": {
        "colab": {
          "base_uri": "https://localhost:8080/"
        },
        "id": "CkfPKyCmlF7O",
        "outputId": "14a5e73a-282a-4d74-eaee-61163c2efbaa"
      },
      "source": [
        "print(Tri_ele)\r\n",
        "print(Tri_ele.fields)"
      ],
      "execution_count": 224,
      "outputs": [
        {
          "output_type": "stream",
          "text": [
            "[[(Electron, Electron, Electron), (Electron, ... (Electron, Electron, Electron)]]\n",
            "['0', '1', '2']\n"
          ],
          "name": "stdout"
        }
      ]
    },
    {
      "cell_type": "code",
      "metadata": {
        "colab": {
          "base_uri": "https://localhost:8080/"
        },
        "id": "puXGwPYFxt7_",
        "outputId": "a764cec3-bbfa-43b7-8f31-42343203ebb3"
      },
      "source": [
        "print(Tri_ele.slot0)\r\n",
        "print(Tri_ele.slot1)\r\n",
        "print(Tri_ele.slot2)"
      ],
      "execution_count": 225,
      "outputs": [
        {
          "output_type": "stream",
          "text": [
            "[[Electron, Electron, Electron, Electron], ... Electron, Electron], [Electron]]\n",
            "[[Electron, Electron, Electron, Electron], ... Electron, Electron], [Electron]]\n",
            "[[Electron, Electron, Electron, Electron], ... Electron, Electron], [Electron]]\n"
          ],
          "name": "stdout"
        }
      ]
    },
    {
      "cell_type": "code",
      "metadata": {
        "colab": {
          "base_uri": "https://localhost:8080/"
        },
        "id": "g2eQekugO1ic",
        "outputId": "baf2a734-b833-4522-af34-2c6a6f7aa300"
      },
      "source": [
        "## ---Veto same sign set and events\r\n",
        "N_Before_ss_filter = len(Tri_ele)\r\n",
        "Tri_SSVeto_Mask =  ~(( Tri_ele.slot0.charge == Tri_ele.slot1.charge ) == Tri_ele.slot2.charge )\r\n",
        "Tri_ele = Tri_ele[Tri_SSVeto_Mask]\r\n",
        "\r\n",
        "Tri_SSVeto_evtMask = ak.num(Tri_ele) > 0\r\n",
        "Tri_ele = Tri_ele[Tri_SSVeto_evtMask]\r\n",
        "MET_SSVeto = Met[Tri_SSVeto_evtMask]\r\n",
        "\r\n",
        "N_After_ss_filter = len(Tri_ele)\r\n",
        "\r\n",
        "print(\"Veto SS Eff: {0}%\".format(round(N_After_ss_filter / N_Before_ss_filter * 100,2 )))\r\n",
        "\r\n",
        "## ---Select High-PT ordered set\r\n",
        "#Tri_ele = Tri_ele[ak.argmax(Tri_ele.slot0.pt, axis=1, keepdims=True)]\r\n",
        "Tri_ele = Tri_ele[ak.argmax(Tri_ele.slot0.pt, axis=1, keepdims=True)]"
      ],
      "execution_count": 226,
      "outputs": [
        {
          "output_type": "stream",
          "text": [
            "Veto SS Eff: 93.41%\n"
          ],
          "name": "stdout"
        }
      ]
    },
    {
      "cell_type": "code",
      "metadata": {
        "id": "eSPeKi57W-Zn"
      },
      "source": [
        "# # Choose OSSF \r\n",
        "# Tri_first, Tri_second, Tri_third = ak.unzip(triele)\r\n",
        "# Tri_ele = Tri_first + Tri_second + Tri_third"
      ],
      "execution_count": 229,
      "outputs": []
    },
    {
      "cell_type": "code",
      "metadata": {
        "id": "lBiUDtj0ojhC"
      },
      "source": [
        "# Choose OSSF lepton pairs that meet Z mass window\r\n",
        "def ossf_zmass_check(p1, p2):\r\n",
        "  return ((p1.charge != p2.charge) & (np.abs(91.18 - (p1 + p2).mass) < 30.))\r\n",
        "\r\n",
        "e1e2 = ossf_zmass_check(Tri_ele.slot0, Tri_ele.slot1)\r\n",
        "e1e3 = ossf_zmass_check(Tri_ele.slot0, Tri_ele.slot2)\r\n",
        "e2e3 = ossf_zmass_check(Tri_ele.slot1, Tri_ele.slot2)"
      ],
      "execution_count": 230,
      "outputs": []
    },
    {
      "cell_type": "code",
      "metadata": {
        "colab": {
          "base_uri": "https://localhost:8080/"
        },
        "id": "rVnBXsYgom8W",
        "outputId": "f854ee62-ea8f-4fec-897b-2bf83ea48035"
      },
      "source": [
        "print(e1e2)\r\n",
        "print(e1e3)\r\n",
        "print(e2e3)"
      ],
      "execution_count": 231,
      "outputs": [
        {
          "output_type": "stream",
          "text": [
            "[[False], [True], [False], [False], [False, ... [True], [True], [True], [False]]\n",
            "[[False], [False], [False], [False], ... [False], [False], [False], [False]]\n",
            "[[False], [False], [False], [False], [True, ... [False], [False], [True], [True]]\n"
          ],
          "name": "stdout"
        }
      ]
    },
    {
      "cell_type": "code",
      "metadata": {
        "colab": {
          "base_uri": "https://localhost:8080/"
        },
        "id": "aiKs5nfOop2W",
        "outputId": "0b6d35c6-8ee8-40dc-a080-59c99315efe0"
      },
      "source": [
        "print(len(e1e2))\r\n",
        "print(len(e1e3))\r\n",
        "print(len(e2e3))"
      ],
      "execution_count": 28,
      "outputs": [
        {
          "output_type": "stream",
          "text": [
            "167\n",
            "167\n",
            "167\n"
          ],
          "name": "stdout"
        }
      ]
    },
    {
      "cell_type": "code",
      "metadata": {
        "id": "vAqDRyxUplKN"
      },
      "source": [
        "Triplet = Tri_ele[ak.num(Tri_ele[e1e2]) > 0]\r\n",
        "MET_OSSF = MET_SSVeto[ak.num(Tri_ele[e1e2]) > 0]"
      ],
      "execution_count": 233,
      "outputs": []
    },
    {
      "cell_type": "code",
      "metadata": {
        "colab": {
          "base_uri": "https://localhost:8080/"
        },
        "id": "kIfhGRgiZQs4",
        "outputId": "665b5b80-7519-47a3-9ec4-4c1d920c1928"
      },
      "source": [
        "print(Triplet)\r\n",
        "print(Triplet.fields)"
      ],
      "execution_count": 254,
      "outputs": [
        {
          "output_type": "stream",
          "text": [
            "[[(Electron, Electron, Electron)], [(Electron, ... [(Electron, Electron, Electron)]]\n",
            "['0', '1', '2']\n"
          ],
          "name": "stdout"
        }
      ]
    },
    {
      "cell_type": "code",
      "metadata": {
        "id": "9GY7stPZpvMr"
      },
      "source": [
        "Tri_ele = Tri_ele[ak.argmax(Tri_first.pt,axis=1)]"
      ],
      "execution_count": 33,
      "outputs": []
    },
    {
      "cell_type": "code",
      "metadata": {
        "colab": {
          "base_uri": "https://localhost:8080/"
        },
        "id": "Tl1Iuur_p_PV",
        "outputId": "91e268df-3153-4c24-cad7-8f5fe2c36913"
      },
      "source": [
        "Di_ele = Triplet.slot0 + Triplet.slot1\r\n",
        "\r\n",
        "Mee = ak.flatten(Di_ele.mass)\r\n",
        "len(Mee)"
      ],
      "execution_count": 243,
      "outputs": [
        {
          "output_type": "stream",
          "text": [
            "[[{x: 62.2, y: -263, z: 845, t: 891, charge: 0}], ... z: 239, t: 280, charge: 0}]]\n"
          ],
          "name": "stdout"
        },
        {
          "output_type": "execute_result",
          "data": {
            "text/plain": [
              "62"
            ]
          },
          "metadata": {
            "tags": []
          },
          "execution_count": 243
        }
      ]
    },
    {
      "cell_type": "code",
      "metadata": {
        "colab": {
          "base_uri": "https://localhost:8080/"
        },
        "id": "qDVEDix6Y7Vh",
        "outputId": "02f62066-a38c-4d26-c6f8-22065dd44118"
      },
      "source": [
        "print(Di_ele)\r\n",
        "print(Di_ele.slot0)"
      ],
      "execution_count": 248,
      "outputs": [
        {
          "output_type": "stream",
          "text": [
            "[[{x: 62.2, y: -263, z: 845, t: 891, charge: 0}], ... z: 239, t: 280, charge: 0}]]\n",
            "[[62.2], [68.7], [55.9], [67.6], [15.5], ... -37.9], [54.7], [29.2], [29.4], [-31.2]]\n"
          ],
          "name": "stdout"
        }
      ]
    },
    {
      "cell_type": "code",
      "metadata": {
        "id": "xYFahV8RXKRv"
      },
      "source": [
        "import mplhep as hep\r\n",
        "import matplotlib.pyplot as plt"
      ],
      "execution_count": 240,
      "outputs": []
    },
    {
      "cell_type": "code",
      "metadata": {
        "colab": {
          "base_uri": "https://localhost:8080/",
          "height": 485
        },
        "id": "7quc55wURsxM",
        "outputId": "058685a9-b1b7-4f04-c7e3-8140976518f5"
      },
      "source": [
        "plt.figure(figsize=(7, 7))\r\n",
        "plt.style.use(hep.style.CMS)\r\n",
        "plt.hist(Mee,bins=50,color='royalblue',alpha=0.7,label='eee channel')\r\n",
        "plt.xlim(50,150)\r\n",
        "plt.xlabel('M(ee) [GeV]',fontsize=25)\r\n",
        "plt.ylabel('Nuber of events',fontsize=25)\r\n",
        "plt.yscale('log')\r\n",
        "plt.legend()"
      ],
      "execution_count": 241,
      "outputs": [
        {
          "output_type": "execute_result",
          "data": {
            "text/plain": [
              "<matplotlib.legend.Legend at 0x7f08f11b2cf8>"
            ]
          },
          "metadata": {
            "tags": []
          },
          "execution_count": 241
        },
        {
          "output_type": "stream",
          "text": [
            "findfont: Font family ['cursive'] not found. Falling back to DejaVu Sans.\n"
          ],
          "name": "stderr"
        },
        {
          "output_type": "display_data",
          "data": {
            "image/png": "[encoded data removed]",
            "text/plain": [
              "<Figure size 504x504 with 1 Axes>"
            ]
          },
          "metadata": {
            "tags": [],
            "needs_background": "light"
          }
        }
      ]
    },
    {
      "cell_type": "code",
      "metadata": {
        "id": "3xcRxeApRuf8"
      },
      "source": [
        ""
      ],
      "execution_count": null,
      "outputs": []
    }
  ]
}